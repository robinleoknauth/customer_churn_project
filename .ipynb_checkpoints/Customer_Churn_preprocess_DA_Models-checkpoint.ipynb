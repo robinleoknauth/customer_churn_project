{
 "cells": [
  {
   "cell_type": "code",
   "execution_count": 1111,
   "metadata": {},
   "outputs": [
    {
     "ename": "ModuleNotFoundError",
     "evalue": "No module named 'yellowbrick'",
     "output_type": "error",
     "traceback": [
      "\u001b[0;31m---------------------------------------------------------------------------\u001b[0m",
      "\u001b[0;31mModuleNotFoundError\u001b[0m                       Traceback (most recent call last)",
      "\u001b[0;32m<ipython-input-1111-ec45d7914a82>\u001b[0m in \u001b[0;36m<module>\u001b[0;34m\u001b[0m\n\u001b[1;32m     61\u001b[0m \u001b[0;32mfrom\u001b[0m \u001b[0mscipy\u001b[0m\u001b[0;34m.\u001b[0m\u001b[0mstats\u001b[0m \u001b[0;32mimport\u001b[0m \u001b[0muniform\u001b[0m \u001b[0;32mas\u001b[0m \u001b[0msp_uniform\u001b[0m\u001b[0;34m\u001b[0m\u001b[0;34m\u001b[0m\u001b[0m\n\u001b[1;32m     62\u001b[0m \u001b[0;34m\u001b[0m\u001b[0m\n\u001b[0;32m---> 63\u001b[0;31m \u001b[0;32mfrom\u001b[0m \u001b[0myellowbrick\u001b[0m\u001b[0;34m.\u001b[0m\u001b[0mclassifier\u001b[0m \u001b[0;32mimport\u001b[0m \u001b[0mDiscriminationThreshold\u001b[0m\u001b[0;34m\u001b[0m\u001b[0;34m\u001b[0m\u001b[0m\n\u001b[0m\u001b[1;32m     64\u001b[0m \u001b[0;31m# from yellowbrick.classifier import DiscriminationThreshold\u001b[0m\u001b[0;34m\u001b[0m\u001b[0;34m\u001b[0m\u001b[0;34m\u001b[0m\u001b[0m\n",
      "\u001b[0;31mModuleNotFoundError\u001b[0m: No module named 'yellowbrick'"
     ]
    }
   ],
   "source": [
    "import pandas as pd\n",
    "import numpy as np\n",
    "import matplotlib.pyplot as plt\n",
    "import seaborn as sns\n",
    "\n",
    "%matplotlib inline\n",
    "\n",
    "import warnings\n",
    "warnings.filterwarnings('ignore')\n",
    "\n",
    "import itertools\n",
    "\n",
    "from sklearn.preprocessing import StandardScaler\n",
    "from sklearn.preprocessing import OneHotEncoder\n",
    "from sklearn.preprocessing import LabelEncoder\n",
    "\n",
    "from sklearn.neighbors import KNeighborsClassifier\n",
    "from sklearn.linear_model import LogisticRegression\n",
    "from sklearn.svm import SVC\n",
    "from sklearn.ensemble import RandomForestClassifier\n",
    "from sklearn.ensemble import GradientBoostingClassifier\n",
    "\n",
    "from sklearn.neural_network import MLPClassifier\n",
    "\n",
    "from sklearn.naive_bayes import MultinomialNB, GaussianNB\n",
    "\n",
    "\n",
    "from sklearn.model_selection import train_test_split\n",
    "from sklearn.model_selection import GridSearchCV\n",
    "from sklearn.model_selection import RandomizedSearchCV\n",
    "from sklearn.model_selection import StratifiedKFold\n",
    "\n",
    "from sklearn.metrics import confusion_matrix ,classification_report, accuracy_score\n",
    "from sklearn.metrics import roc_auc_score,roc_curve,scorer\n",
    "from sklearn.metrics import f1_score\n",
    "\n",
    "from sklearn.impute import SimpleImputer\n",
    "\n",
    "\n",
    "from sklearn.tree import DecisionTreeClassifier\n",
    "from sklearn.tree import export_graphviz\n",
    "from sklearn import tree\n",
    "\n",
    "from xgboost import XGBClassifier\n",
    "\n",
    "from lightgbm import LGBMClassifier\n",
    "\n",
    "import pandas_profiling\n",
    "\n",
    "from imblearn.over_sampling import SMOTE\n",
    "from imblearn.over_sampling import ADASYN\n",
    "from imblearn.over_sampling import RandomOverSampler\n",
    "\n",
    "import plotly.plotly as py\n",
    "import plotly.figure_factory as ff\n",
    "import plotly\n",
    "import plotly.graph_objs as go\n",
    "import plotly.tools as tls\n",
    "\n",
    "from scipy.stats import randint as sp_randint\n",
    "from scipy.stats import uniform as sp_uniform\n",
    "\n",
    "# from yellowbrick.classifier import DiscriminationThreshold\n",
    "# from yellowbrick.classifier import DiscriminationThreshold"
   ]
  },
  {
   "cell_type": "code",
   "execution_count": 656,
   "metadata": {},
   "outputs": [],
   "source": [
    "df_churn = pd.read_csv('Telco-Customer-Churn.csv')"
   ]
  },
  {
   "cell_type": "code",
   "execution_count": 657,
   "metadata": {
    "scrolled": true
   },
   "outputs": [],
   "source": [
    "df_churn;"
   ]
  },
  {
   "cell_type": "markdown",
   "metadata": {},
   "source": [
    "#### Dropping \"CustomerID\" as it provides no signal"
   ]
  },
  {
   "cell_type": "code",
   "execution_count": 658,
   "metadata": {},
   "outputs": [],
   "source": [
    "df_churn.drop(['customerID'], axis=1, inplace=True)"
   ]
  },
  {
   "cell_type": "markdown",
   "metadata": {},
   "source": [
    "#### Replacing empty spaces with null values in \"TotalCharges\""
   ]
  },
  {
   "cell_type": "code",
   "execution_count": 659,
   "metadata": {},
   "outputs": [],
   "source": [
    "df_churn['TotalCharges'] = df_churn[\"TotalCharges\"].replace(\" \" , np.nan)"
   ]
  },
  {
   "cell_type": "markdown",
   "metadata": {},
   "source": [
    "#### Dropping nulls from \"TotalCharges\" "
   ]
  },
  {
   "cell_type": "code",
   "execution_count": 660,
   "metadata": {},
   "outputs": [],
   "source": [
    "df_churn = df_churn[df_churn[\"TotalCharges\"].notnull()]\n",
    "df_churn = df_churn.reset_index()[df_churn.columns]"
   ]
  },
  {
   "cell_type": "markdown",
   "metadata": {},
   "source": [
    "#### Converting strings to floats in \"TotalCharges\""
   ]
  },
  {
   "cell_type": "code",
   "execution_count": 661,
   "metadata": {},
   "outputs": [],
   "source": [
    "df_churn[\"TotalCharges\"] = df_churn[\"TotalCharges\"].astype(float)"
   ]
  },
  {
   "cell_type": "markdown",
   "metadata": {},
   "source": [
    "#### replacing 'No internet service' to 'No' for columns which show 'No internet service'\n",
    "\n",
    "Making it more consistent, logically sound"
   ]
  },
  {
   "cell_type": "code",
   "execution_count": 662,
   "metadata": {},
   "outputs": [],
   "source": [
    "replace_columns = ['OnlineSecurity', 'OnlineBackup', 'DeviceProtection', 'TechSupport','StreamingTV', 'StreamingMovies']\n",
    "\n",
    "for i in replace_columns : \n",
    "    df_churn[i]  = df_churn[i].replace({'No internet service' : 'No'})"
   ]
  },
  {
   "cell_type": "code",
   "execution_count": 663,
   "metadata": {},
   "outputs": [],
   "source": [
    "'''\n",
    "\n",
    "''';\n",
    "    \n",
    "# #replace values\n",
    "# df_churn[\"SeniorCitizen\"] = df_churn[\"SeniorCitizen\"].replace({1:\"Yes\",0:\"No\"})\n"
   ]
  },
  {
   "cell_type": "markdown",
   "metadata": {},
   "source": [
    "### Function to bin tenures\n",
    "\n",
    "I might come back to this and rebin later. Especially curious about more bins to differntiate users with less than 2 years further."
   ]
  },
  {
   "cell_type": "code",
   "execution_count": 664,
   "metadata": {},
   "outputs": [],
   "source": [
    "def bin_tenure(df_churn):\n",
    "    \n",
    "    '''\n",
    "    helper function to be able to come back later and change bins\n",
    "    '''\n",
    "    \n",
    "    if df_churn[\"tenure\"] <= 12 :\n",
    "        return \"Tenure_0_to_12\"\n",
    "    elif (df_churn[\"tenure\"] > 12) & (df_churn[\"tenure\"] <= 24 ):\n",
    "        return \"Tenure_12_to_24\"\n",
    "    elif (df_churn[\"tenure\"] > 24) & (df_churn[\"tenure\"] <= 48) :\n",
    "        return \"Tenure_24_to_48\"\n",
    "    elif (df_churn[\"tenure\"] > 48) & (df_churn[\"tenure\"] <= 60) :\n",
    "        return \"Tenure_48_to_60\"\n",
    "    elif df_churn[\"tenure\"] > 60 :\n",
    "        return \"Tenure_60+\""
   ]
  },
  {
   "cell_type": "markdown",
   "metadata": {},
   "source": [
    "### binning tenure "
   ]
  },
  {
   "cell_type": "code",
   "execution_count": 665,
   "metadata": {},
   "outputs": [],
   "source": [
    "df_churn[\"tenure_bin\"] = df_churn.apply(lambda df_churn:bin_tenure(df_churn), axis = 1)"
   ]
  },
  {
   "cell_type": "code",
   "execution_count": 666,
   "metadata": {},
   "outputs": [],
   "source": [
    "# cat_cols   = df_churn.nunique()[df_churn.nunique() <= 5].keys().tolist()\n",
    "# cat_cols;"
   ]
  },
  {
   "cell_type": "code",
   "execution_count": 667,
   "metadata": {},
   "outputs": [],
   "source": [
    "# Separating churn and non-churn\n",
    "df_only_churn     = df_churn[df_churn[\"Churn\"] == \"Yes\"]\n",
    "df_not_churn = df_churn[df_churn[\"Churn\"] == \"No\"]\n",
    "\n",
    "# Separating columns by numerical and categorical, target column is \"Churn\"\n",
    "target_col = [\"Churn\"]\n",
    "\n",
    "cat_cols   = df_churn.nunique()\n",
    "cat_cols   = df_churn.nunique()[df_churn.nunique() <= 5].keys().tolist()\n",
    "cat_cols   = [col for col in cat_cols if col not in target_col]\n",
    "num_cols   = [col for col in df_churn.columns if col not in cat_cols + target_col]\n",
    "\n",
    "\n",
    "# get binary columns with 2 values\n",
    "bin_cols   = df_churn.nunique()[df_churn.nunique() == 2].keys().tolist()\n",
    "# get columns with more than 2 values\n",
    "multi_cols = [i for i in cat_cols if i not in bin_cols]"
   ]
  },
  {
   "cell_type": "code",
   "execution_count": 668,
   "metadata": {},
   "outputs": [],
   "source": [
    "df_churn;"
   ]
  },
  {
   "cell_type": "code",
   "execution_count": 669,
   "metadata": {},
   "outputs": [],
   "source": [
    "\n",
    "# df_scaled.to_pickle(\"./df_churn.pkl\")\n"
   ]
  },
  {
   "cell_type": "code",
   "execution_count": 670,
   "metadata": {},
   "outputs": [],
   "source": [
    "# df_churn_scaled = df_churn.drop(columns = num_cols,axis = 1)\n",
    "# df_churn_scaled = df_churn_scaled.merge(df_scaled,left_index=True,right_index=True,how = \"left\")"
   ]
  },
  {
   "cell_type": "code",
   "execution_count": 671,
   "metadata": {
    "scrolled": true
   },
   "outputs": [
    {
     "data": {
      "text/html": [
       "<div>\n",
       "<style scoped>\n",
       "    .dataframe tbody tr th:only-of-type {\n",
       "        vertical-align: middle;\n",
       "    }\n",
       "\n",
       "    .dataframe tbody tr th {\n",
       "        vertical-align: top;\n",
       "    }\n",
       "\n",
       "    .dataframe thead th {\n",
       "        text-align: right;\n",
       "    }\n",
       "</style>\n",
       "<table border=\"1\" class=\"dataframe\">\n",
       "  <thead>\n",
       "    <tr style=\"text-align: right;\">\n",
       "      <th></th>\n",
       "      <th>gender</th>\n",
       "      <th>SeniorCitizen</th>\n",
       "      <th>Partner</th>\n",
       "      <th>Dependents</th>\n",
       "      <th>tenure</th>\n",
       "      <th>PhoneService</th>\n",
       "      <th>MultipleLines</th>\n",
       "      <th>InternetService</th>\n",
       "      <th>OnlineSecurity</th>\n",
       "      <th>OnlineBackup</th>\n",
       "      <th>...</th>\n",
       "      <th>TechSupport</th>\n",
       "      <th>StreamingTV</th>\n",
       "      <th>StreamingMovies</th>\n",
       "      <th>Contract</th>\n",
       "      <th>PaperlessBilling</th>\n",
       "      <th>PaymentMethod</th>\n",
       "      <th>MonthlyCharges</th>\n",
       "      <th>TotalCharges</th>\n",
       "      <th>Churn</th>\n",
       "      <th>tenure_bin</th>\n",
       "    </tr>\n",
       "  </thead>\n",
       "  <tbody>\n",
       "    <tr>\n",
       "      <th>0</th>\n",
       "      <td>Female</td>\n",
       "      <td>0</td>\n",
       "      <td>Yes</td>\n",
       "      <td>No</td>\n",
       "      <td>1</td>\n",
       "      <td>No</td>\n",
       "      <td>No phone service</td>\n",
       "      <td>DSL</td>\n",
       "      <td>No</td>\n",
       "      <td>Yes</td>\n",
       "      <td>...</td>\n",
       "      <td>No</td>\n",
       "      <td>No</td>\n",
       "      <td>No</td>\n",
       "      <td>Month-to-month</td>\n",
       "      <td>Yes</td>\n",
       "      <td>Electronic check</td>\n",
       "      <td>29.85</td>\n",
       "      <td>29.85</td>\n",
       "      <td>No</td>\n",
       "      <td>Tenure_0_to_12</td>\n",
       "    </tr>\n",
       "    <tr>\n",
       "      <th>1</th>\n",
       "      <td>Male</td>\n",
       "      <td>0</td>\n",
       "      <td>No</td>\n",
       "      <td>No</td>\n",
       "      <td>34</td>\n",
       "      <td>Yes</td>\n",
       "      <td>No</td>\n",
       "      <td>DSL</td>\n",
       "      <td>Yes</td>\n",
       "      <td>No</td>\n",
       "      <td>...</td>\n",
       "      <td>No</td>\n",
       "      <td>No</td>\n",
       "      <td>No</td>\n",
       "      <td>One year</td>\n",
       "      <td>No</td>\n",
       "      <td>Mailed check</td>\n",
       "      <td>56.95</td>\n",
       "      <td>1889.50</td>\n",
       "      <td>No</td>\n",
       "      <td>Tenure_24_to_48</td>\n",
       "    </tr>\n",
       "    <tr>\n",
       "      <th>2</th>\n",
       "      <td>Male</td>\n",
       "      <td>0</td>\n",
       "      <td>No</td>\n",
       "      <td>No</td>\n",
       "      <td>2</td>\n",
       "      <td>Yes</td>\n",
       "      <td>No</td>\n",
       "      <td>DSL</td>\n",
       "      <td>Yes</td>\n",
       "      <td>Yes</td>\n",
       "      <td>...</td>\n",
       "      <td>No</td>\n",
       "      <td>No</td>\n",
       "      <td>No</td>\n",
       "      <td>Month-to-month</td>\n",
       "      <td>Yes</td>\n",
       "      <td>Mailed check</td>\n",
       "      <td>53.85</td>\n",
       "      <td>108.15</td>\n",
       "      <td>Yes</td>\n",
       "      <td>Tenure_0_to_12</td>\n",
       "    </tr>\n",
       "    <tr>\n",
       "      <th>3</th>\n",
       "      <td>Male</td>\n",
       "      <td>0</td>\n",
       "      <td>No</td>\n",
       "      <td>No</td>\n",
       "      <td>45</td>\n",
       "      <td>No</td>\n",
       "      <td>No phone service</td>\n",
       "      <td>DSL</td>\n",
       "      <td>Yes</td>\n",
       "      <td>No</td>\n",
       "      <td>...</td>\n",
       "      <td>Yes</td>\n",
       "      <td>No</td>\n",
       "      <td>No</td>\n",
       "      <td>One year</td>\n",
       "      <td>No</td>\n",
       "      <td>Bank transfer (automatic)</td>\n",
       "      <td>42.30</td>\n",
       "      <td>1840.75</td>\n",
       "      <td>No</td>\n",
       "      <td>Tenure_24_to_48</td>\n",
       "    </tr>\n",
       "    <tr>\n",
       "      <th>4</th>\n",
       "      <td>Female</td>\n",
       "      <td>0</td>\n",
       "      <td>No</td>\n",
       "      <td>No</td>\n",
       "      <td>2</td>\n",
       "      <td>Yes</td>\n",
       "      <td>No</td>\n",
       "      <td>Fiber optic</td>\n",
       "      <td>No</td>\n",
       "      <td>No</td>\n",
       "      <td>...</td>\n",
       "      <td>No</td>\n",
       "      <td>No</td>\n",
       "      <td>No</td>\n",
       "      <td>Month-to-month</td>\n",
       "      <td>Yes</td>\n",
       "      <td>Electronic check</td>\n",
       "      <td>70.70</td>\n",
       "      <td>151.65</td>\n",
       "      <td>Yes</td>\n",
       "      <td>Tenure_0_to_12</td>\n",
       "    </tr>\n",
       "  </tbody>\n",
       "</table>\n",
       "<p>5 rows × 21 columns</p>\n",
       "</div>"
      ],
      "text/plain": [
       "   gender  SeniorCitizen Partner Dependents  tenure PhoneService  \\\n",
       "0  Female              0     Yes         No       1           No   \n",
       "1    Male              0      No         No      34          Yes   \n",
       "2    Male              0      No         No       2          Yes   \n",
       "3    Male              0      No         No      45           No   \n",
       "4  Female              0      No         No       2          Yes   \n",
       "\n",
       "      MultipleLines InternetService OnlineSecurity OnlineBackup  ...  \\\n",
       "0  No phone service             DSL             No          Yes  ...   \n",
       "1                No             DSL            Yes           No  ...   \n",
       "2                No             DSL            Yes          Yes  ...   \n",
       "3  No phone service             DSL            Yes           No  ...   \n",
       "4                No     Fiber optic             No           No  ...   \n",
       "\n",
       "  TechSupport StreamingTV StreamingMovies        Contract PaperlessBilling  \\\n",
       "0          No          No              No  Month-to-month              Yes   \n",
       "1          No          No              No        One year               No   \n",
       "2          No          No              No  Month-to-month              Yes   \n",
       "3         Yes          No              No        One year               No   \n",
       "4          No          No              No  Month-to-month              Yes   \n",
       "\n",
       "               PaymentMethod MonthlyCharges  TotalCharges  Churn  \\\n",
       "0           Electronic check          29.85         29.85     No   \n",
       "1               Mailed check          56.95       1889.50     No   \n",
       "2               Mailed check          53.85        108.15    Yes   \n",
       "3  Bank transfer (automatic)          42.30       1840.75     No   \n",
       "4           Electronic check          70.70        151.65    Yes   \n",
       "\n",
       "        tenure_bin  \n",
       "0   Tenure_0_to_12  \n",
       "1  Tenure_24_to_48  \n",
       "2   Tenure_0_to_12  \n",
       "3  Tenure_24_to_48  \n",
       "4   Tenure_0_to_12  \n",
       "\n",
       "[5 rows x 21 columns]"
      ]
     },
     "execution_count": 671,
     "metadata": {},
     "output_type": "execute_result"
    }
   ],
   "source": [
    "df_churn.head()"
   ]
  },
  {
   "cell_type": "markdown",
   "metadata": {},
   "source": [
    "### One Hot Encoding"
   ]
  },
  {
   "cell_type": "code",
   "execution_count": 672,
   "metadata": {},
   "outputs": [],
   "source": [
    "df_churn_encoded = pd.get_dummies(data = df_churn,columns = multi_cols, drop_first = True )\n"
   ]
  },
  {
   "cell_type": "code",
   "execution_count": 673,
   "metadata": {},
   "outputs": [
    {
     "data": {
      "text/html": [
       "<div>\n",
       "<style scoped>\n",
       "    .dataframe tbody tr th:only-of-type {\n",
       "        vertical-align: middle;\n",
       "    }\n",
       "\n",
       "    .dataframe tbody tr th {\n",
       "        vertical-align: top;\n",
       "    }\n",
       "\n",
       "    .dataframe thead th {\n",
       "        text-align: right;\n",
       "    }\n",
       "</style>\n",
       "<table border=\"1\" class=\"dataframe\">\n",
       "  <thead>\n",
       "    <tr style=\"text-align: right;\">\n",
       "      <th></th>\n",
       "      <th>gender</th>\n",
       "      <th>SeniorCitizen</th>\n",
       "      <th>Partner</th>\n",
       "      <th>Dependents</th>\n",
       "      <th>tenure</th>\n",
       "      <th>PhoneService</th>\n",
       "      <th>OnlineSecurity</th>\n",
       "      <th>OnlineBackup</th>\n",
       "      <th>DeviceProtection</th>\n",
       "      <th>TechSupport</th>\n",
       "      <th>...</th>\n",
       "      <th>InternetService_No</th>\n",
       "      <th>Contract_One year</th>\n",
       "      <th>Contract_Two year</th>\n",
       "      <th>PaymentMethod_Credit card (automatic)</th>\n",
       "      <th>PaymentMethod_Electronic check</th>\n",
       "      <th>PaymentMethod_Mailed check</th>\n",
       "      <th>tenure_bin_Tenure_12_to_24</th>\n",
       "      <th>tenure_bin_Tenure_24_to_48</th>\n",
       "      <th>tenure_bin_Tenure_48_to_60</th>\n",
       "      <th>tenure_bin_Tenure_60+</th>\n",
       "    </tr>\n",
       "  </thead>\n",
       "  <tbody>\n",
       "    <tr>\n",
       "      <th>0</th>\n",
       "      <td>Female</td>\n",
       "      <td>0</td>\n",
       "      <td>Yes</td>\n",
       "      <td>No</td>\n",
       "      <td>1</td>\n",
       "      <td>No</td>\n",
       "      <td>No</td>\n",
       "      <td>Yes</td>\n",
       "      <td>No</td>\n",
       "      <td>No</td>\n",
       "      <td>...</td>\n",
       "      <td>0</td>\n",
       "      <td>0</td>\n",
       "      <td>0</td>\n",
       "      <td>0</td>\n",
       "      <td>1</td>\n",
       "      <td>0</td>\n",
       "      <td>0</td>\n",
       "      <td>0</td>\n",
       "      <td>0</td>\n",
       "      <td>0</td>\n",
       "    </tr>\n",
       "    <tr>\n",
       "      <th>1</th>\n",
       "      <td>Male</td>\n",
       "      <td>0</td>\n",
       "      <td>No</td>\n",
       "      <td>No</td>\n",
       "      <td>34</td>\n",
       "      <td>Yes</td>\n",
       "      <td>Yes</td>\n",
       "      <td>No</td>\n",
       "      <td>Yes</td>\n",
       "      <td>No</td>\n",
       "      <td>...</td>\n",
       "      <td>0</td>\n",
       "      <td>1</td>\n",
       "      <td>0</td>\n",
       "      <td>0</td>\n",
       "      <td>0</td>\n",
       "      <td>1</td>\n",
       "      <td>0</td>\n",
       "      <td>1</td>\n",
       "      <td>0</td>\n",
       "      <td>0</td>\n",
       "    </tr>\n",
       "    <tr>\n",
       "      <th>2</th>\n",
       "      <td>Male</td>\n",
       "      <td>0</td>\n",
       "      <td>No</td>\n",
       "      <td>No</td>\n",
       "      <td>2</td>\n",
       "      <td>Yes</td>\n",
       "      <td>Yes</td>\n",
       "      <td>Yes</td>\n",
       "      <td>No</td>\n",
       "      <td>No</td>\n",
       "      <td>...</td>\n",
       "      <td>0</td>\n",
       "      <td>0</td>\n",
       "      <td>0</td>\n",
       "      <td>0</td>\n",
       "      <td>0</td>\n",
       "      <td>1</td>\n",
       "      <td>0</td>\n",
       "      <td>0</td>\n",
       "      <td>0</td>\n",
       "      <td>0</td>\n",
       "    </tr>\n",
       "    <tr>\n",
       "      <th>3</th>\n",
       "      <td>Male</td>\n",
       "      <td>0</td>\n",
       "      <td>No</td>\n",
       "      <td>No</td>\n",
       "      <td>45</td>\n",
       "      <td>No</td>\n",
       "      <td>Yes</td>\n",
       "      <td>No</td>\n",
       "      <td>Yes</td>\n",
       "      <td>Yes</td>\n",
       "      <td>...</td>\n",
       "      <td>0</td>\n",
       "      <td>1</td>\n",
       "      <td>0</td>\n",
       "      <td>0</td>\n",
       "      <td>0</td>\n",
       "      <td>0</td>\n",
       "      <td>0</td>\n",
       "      <td>1</td>\n",
       "      <td>0</td>\n",
       "      <td>0</td>\n",
       "    </tr>\n",
       "    <tr>\n",
       "      <th>4</th>\n",
       "      <td>Female</td>\n",
       "      <td>0</td>\n",
       "      <td>No</td>\n",
       "      <td>No</td>\n",
       "      <td>2</td>\n",
       "      <td>Yes</td>\n",
       "      <td>No</td>\n",
       "      <td>No</td>\n",
       "      <td>No</td>\n",
       "      <td>No</td>\n",
       "      <td>...</td>\n",
       "      <td>0</td>\n",
       "      <td>0</td>\n",
       "      <td>0</td>\n",
       "      <td>0</td>\n",
       "      <td>1</td>\n",
       "      <td>0</td>\n",
       "      <td>0</td>\n",
       "      <td>0</td>\n",
       "      <td>0</td>\n",
       "      <td>0</td>\n",
       "    </tr>\n",
       "  </tbody>\n",
       "</table>\n",
       "<p>5 rows × 29 columns</p>\n",
       "</div>"
      ],
      "text/plain": [
       "   gender  SeniorCitizen Partner Dependents  tenure PhoneService  \\\n",
       "0  Female              0     Yes         No       1           No   \n",
       "1    Male              0      No         No      34          Yes   \n",
       "2    Male              0      No         No       2          Yes   \n",
       "3    Male              0      No         No      45           No   \n",
       "4  Female              0      No         No       2          Yes   \n",
       "\n",
       "  OnlineSecurity OnlineBackup DeviceProtection TechSupport  ...  \\\n",
       "0             No          Yes               No          No  ...   \n",
       "1            Yes           No              Yes          No  ...   \n",
       "2            Yes          Yes               No          No  ...   \n",
       "3            Yes           No              Yes         Yes  ...   \n",
       "4             No           No               No          No  ...   \n",
       "\n",
       "  InternetService_No Contract_One year Contract_Two year  \\\n",
       "0                  0                 0                 0   \n",
       "1                  0                 1                 0   \n",
       "2                  0                 0                 0   \n",
       "3                  0                 1                 0   \n",
       "4                  0                 0                 0   \n",
       "\n",
       "   PaymentMethod_Credit card (automatic)  PaymentMethod_Electronic check  \\\n",
       "0                                      0                               1   \n",
       "1                                      0                               0   \n",
       "2                                      0                               0   \n",
       "3                                      0                               0   \n",
       "4                                      0                               1   \n",
       "\n",
       "  PaymentMethod_Mailed check  tenure_bin_Tenure_12_to_24  \\\n",
       "0                          0                           0   \n",
       "1                          1                           0   \n",
       "2                          1                           0   \n",
       "3                          0                           0   \n",
       "4                          0                           0   \n",
       "\n",
       "   tenure_bin_Tenure_24_to_48  tenure_bin_Tenure_48_to_60  \\\n",
       "0                           0                           0   \n",
       "1                           1                           0   \n",
       "2                           0                           0   \n",
       "3                           1                           0   \n",
       "4                           0                           0   \n",
       "\n",
       "   tenure_bin_Tenure_60+  \n",
       "0                      0  \n",
       "1                      0  \n",
       "2                      0  \n",
       "3                      0  \n",
       "4                      0  \n",
       "\n",
       "[5 rows x 29 columns]"
      ]
     },
     "execution_count": 673,
     "metadata": {},
     "output_type": "execute_result"
    }
   ],
   "source": [
    "df_churn_encoded.head()"
   ]
  },
  {
   "cell_type": "code",
   "execution_count": 674,
   "metadata": {},
   "outputs": [],
   "source": [
    "df_churn_encoded = pd.get_dummies(data = df_churn_encoded,columns = bin_cols, drop_first = True )"
   ]
  },
  {
   "cell_type": "code",
   "execution_count": 675,
   "metadata": {},
   "outputs": [],
   "source": [
    "df_churn_encoded.head();"
   ]
  },
  {
   "cell_type": "code",
   "execution_count": null,
   "metadata": {},
   "outputs": [],
   "source": []
  },
  {
   "cell_type": "code",
   "execution_count": 676,
   "metadata": {
    "scrolled": true
   },
   "outputs": [],
   "source": [
    "df_churn_encoded.head();"
   ]
  },
  {
   "cell_type": "code",
   "execution_count": 677,
   "metadata": {},
   "outputs": [],
   "source": [
    "\n",
    "# df_churn_scaled.to_pickle(\"./df_churn_scaled_with_1_hot_encoding.pkl\")\n"
   ]
  },
  {
   "cell_type": "code",
   "execution_count": 678,
   "metadata": {},
   "outputs": [],
   "source": [
    "# df_churn_scaled = pd.read_pickle(\"./df_churn_scaled_with_1_hot_encoding.pkl\")"
   ]
  },
  {
   "cell_type": "code",
   "execution_count": 679,
   "metadata": {},
   "outputs": [],
   "source": [
    "df_churn_encoded.head();\n",
    "df_churn_encoded.isnull().values.any();"
   ]
  },
  {
   "cell_type": "markdown",
   "metadata": {},
   "source": [
    "## Model"
   ]
  },
  {
   "cell_type": "markdown",
   "metadata": {},
   "source": [
    "### Train Test Validation Split"
   ]
  },
  {
   "cell_type": "code",
   "execution_count": 900,
   "metadata": {},
   "outputs": [],
   "source": [
    "target_col = [\"Churn_Yes\"]\n",
    "ys = df_churn_encoded[\"Churn_Yes\"]\n",
    "\n",
    "train_val , test = train_test_split(df_churn_encoded,test_size = .20 ,random_state = 1988, stratify = ys)\n",
    "train , val = train_test_split(train_val, test_size = .20 ,random_state = 2014, stratify = train_val[target_col])"
   ]
  },
  {
   "cell_type": "code",
   "execution_count": 898,
   "metadata": {},
   "outputs": [],
   "source": [
    "# target_col = [\"Churn_Yes\"]\n",
    "# ys = df_churn_encoded[\"Churn_Yes\"]\n",
    "\n",
    "# train_val , test = train_test_split(df_churn_encoded,test_size = .20 ,random_state = 1988)\n",
    "# train , val = train_test_split(train_val, test_size = .20 ,random_state = 2014,)"
   ]
  },
  {
   "cell_type": "code",
   "execution_count": null,
   "metadata": {},
   "outputs": [],
   "source": []
  },
  {
   "cell_type": "code",
   "execution_count": 899,
   "metadata": {},
   "outputs": [],
   "source": [
    "target_col = [\"Churn_Yes\"]\n",
    "\n",
    "cols    = [i for i in df_churn_encoded.columns if i not in target_col]\n",
    "\n",
    "'''\n",
    "train_val_X and _Y are used for cross validation.\n",
    "\n",
    "train_X is a subset of train_val_X\n",
    "\n",
    "test_X and test_Y are the holdout sets\n",
    "\n",
    "\n",
    "'''\n",
    "\n",
    "train_val_X = train_val[cols]\n",
    "train_val_Y = train_val[target_col]\n",
    "train_X = train[cols]\n",
    "train_Y = train[target_col]\n",
    "val_X = val[cols]\n",
    "val_Y = val[target_col]\n",
    "test_X  = test[cols]\n",
    "test_Y  = test[target_col]\n"
   ]
  },
  {
   "cell_type": "code",
   "execution_count": 732,
   "metadata": {
    "scrolled": false
   },
   "outputs": [
    {
     "data": {
      "text/html": [
       "<div>\n",
       "<style scoped>\n",
       "    .dataframe tbody tr th:only-of-type {\n",
       "        vertical-align: middle;\n",
       "    }\n",
       "\n",
       "    .dataframe tbody tr th {\n",
       "        vertical-align: top;\n",
       "    }\n",
       "\n",
       "    .dataframe thead th {\n",
       "        text-align: right;\n",
       "    }\n",
       "</style>\n",
       "<table border=\"1\" class=\"dataframe\">\n",
       "  <thead>\n",
       "    <tr style=\"text-align: right;\">\n",
       "      <th></th>\n",
       "      <th>Churn_Yes</th>\n",
       "    </tr>\n",
       "  </thead>\n",
       "  <tbody>\n",
       "    <tr>\n",
       "      <th>4484</th>\n",
       "      <td>0</td>\n",
       "    </tr>\n",
       "    <tr>\n",
       "      <th>2748</th>\n",
       "      <td>1</td>\n",
       "    </tr>\n",
       "    <tr>\n",
       "      <th>1665</th>\n",
       "      <td>1</td>\n",
       "    </tr>\n",
       "    <tr>\n",
       "      <th>3599</th>\n",
       "      <td>0</td>\n",
       "    </tr>\n",
       "    <tr>\n",
       "      <th>5971</th>\n",
       "      <td>0</td>\n",
       "    </tr>\n",
       "  </tbody>\n",
       "</table>\n",
       "</div>"
      ],
      "text/plain": [
       "      Churn_Yes\n",
       "4484          0\n",
       "2748          1\n",
       "1665          1\n",
       "3599          0\n",
       "5971          0"
      ]
     },
     "execution_count": 732,
     "metadata": {},
     "output_type": "execute_result"
    }
   ],
   "source": [
    "val_Y.head()"
   ]
  },
  {
   "cell_type": "markdown",
   "metadata": {},
   "source": [
    "### Standardizing\n",
    "Standardizing the columns with numerical data, i.e. 'tenure', 'MonthlyCharges', 'TotalCharges'"
   ]
  },
  {
   "cell_type": "code",
   "execution_count": 704,
   "metadata": {},
   "outputs": [],
   "source": [
    "std = StandardScaler()\n"
   ]
  },
  {
   "cell_type": "code",
   "execution_count": 901,
   "metadata": {},
   "outputs": [],
   "source": [
    "std.fit(train_val_X[num_cols])\n",
    "test_X[num_cols] = std.transform(test_X[num_cols])\n",
    "train_val_X[num_cols] = std.transform(train_val_X[num_cols])\n"
   ]
  },
  {
   "cell_type": "code",
   "execution_count": 902,
   "metadata": {},
   "outputs": [],
   "source": [
    "std.fit(train_X[num_cols])\n",
    "val_X[num_cols] = std.transform(val_X[num_cols])\n",
    "train_X[num_cols] = std.transform(train_X[num_cols])"
   ]
  },
  {
   "cell_type": "code",
   "execution_count": 1022,
   "metadata": {},
   "outputs": [],
   "source": [
    "complete = df_churn_encoded.copy()"
   ]
  },
  {
   "cell_type": "code",
   "execution_count": 1024,
   "metadata": {},
   "outputs": [
    {
     "data": {
      "text/plain": [
       "array([[-1.28024804, -1.16169394, -0.99419409],\n",
       "       [ 0.06430269, -0.26087792, -0.17373982],\n",
       "       [-1.23950408, -0.36392329, -0.95964911],\n",
       "       ...,\n",
       "       [-0.87280842, -1.17000405, -0.85451414],\n",
       "       [-1.15801615,  0.31916782, -0.87209546],\n",
       "       [ 1.36810945,  1.35793167,  2.01234407]])"
      ]
     },
     "execution_count": 1024,
     "metadata": {},
     "output_type": "execute_result"
    }
   ],
   "source": [
    "std.fit(complete[num_cols])\n",
    "std.transform(complete[num_cols])"
   ]
  },
  {
   "cell_type": "markdown",
   "metadata": {},
   "source": [
    "#### Function to show ROC"
   ]
  },
  {
   "cell_type": "code",
   "execution_count": 259,
   "metadata": {},
   "outputs": [],
   "source": [
    "def plot_roc(test_y, preds, probs):\n",
    "    '''\n",
    "    plots ROC and prints out AUC\n",
    "    '''\n",
    "    model_roc_auc = roc_auc_score(test_y, preds) \n",
    "    print (\"Area under curve : \",model_roc_auc,\"\\n\")\n",
    "\n",
    "    fpr, tpr, thresholds = roc_curve(test_y, probs[:,1])\n",
    "\n",
    "    plt.plot(fpr, tpr, lw = 2)\n",
    "    plt.plot([0,1],[0,1], c='violet', ls='--')\n",
    "    plt.xlim([-0.05,1.05])\n",
    "    plt.ylim([-0.05,1.05])\n",
    "\n",
    "\n",
    "    plt.xlabel('False positive rate')\n",
    "    plt.ylabel('True positive rate')\n",
    "    plt.title('ROC curve');"
   ]
  },
  {
   "cell_type": "markdown",
   "metadata": {},
   "source": [
    "#### Function to show roc for a list of models for comparison"
   ]
  },
  {
   "cell_type": "code",
   "execution_count": 1102,
   "metadata": {},
   "outputs": [],
   "source": [
    "def plot_comparison_roc(model_dict, test_x = val_X , test_y = val_Y,\n",
    "                       ):\n",
    "    \n",
    "    '''\n",
    "    INPUT: dict of trained models, test df\n",
    "    \n",
    "    plots the overlaying roc curves  for comparison purposes.     \n",
    "    '''\n",
    "    \n",
    "    colors = [\n",
    "    'blue',\n",
    "    'green',\n",
    "    'red',\n",
    "    'cyan',\n",
    "    'magenta',\n",
    "    'yellow',\n",
    "    'black',\n",
    "    'violet',\n",
    "    ]\n",
    "    \n",
    "    i = 0\n",
    "    \n",
    "    fig = plt.figure(figsize=(14,14))\n",
    "    \n",
    "    for key, model in model_dict.items():\n",
    "        color = colors[i]\n",
    "        i += 1\n",
    "        i = i % len(colors)\n",
    "        predictions   = model.predict(test_x)  \n",
    "        probabilities = model.predict_proba(test_x)\n",
    "        fpr, tpr, thresholds = roc_curve(test_y, probabilities[:,1])\n",
    "        plt.plot(fpr, tpr, lw = 2, label= key, c = color)\n",
    "        plt.xlim([-0.05,1.05])\n",
    "        plt.ylim([-0.05,1.05])\n",
    "    \n",
    "    plt.plot([0,1],[0,1], c = 'black', ls='--')\n",
    "    plt.xlabel('False Positive Rate',fontsize = 20)\n",
    "    plt.ylabel('True Positive Rate', fontsize = 20)\n",
    "    plt.title('ROC Curves', fontsize = 20)\n",
    "    plt.legend(loc=\"lower right\", fontsize = 20)\n",
    "    plt.tight_layout()\n",
    "    \n",
    "    plt.show()\n",
    "        "
   ]
  },
  {
   "cell_type": "markdown",
   "metadata": {},
   "source": [
    "#### Function to make predictions and return ROC AUC"
   ]
  },
  {
   "cell_type": "code",
   "execution_count": 260,
   "metadata": {},
   "outputs": [],
   "source": [
    "def get_model_ROC_AUC(algorithm, test_x, test_y):\n",
    "    '''\n",
    "    Input is a model that has been .fit(), and the dfs for test_x and test_y\n",
    "    \n",
    "    returns ROC AUC\n",
    "    '''\n",
    "    \n",
    "    predictions   = algorithm.predict(test_x)\n",
    "    probabilities = algorithm.predict_proba(test_x)\n",
    "    model_roc_auc = roc_auc_score(test_y, predictions)\n",
    "    return model_roc_auc"
   ]
  },
  {
   "cell_type": "markdown",
   "metadata": {},
   "source": [
    "#### Function to compare baseline models"
   ]
  },
  {
   "cell_type": "code",
   "execution_count": 911,
   "metadata": {},
   "outputs": [],
   "source": [
    "def get_baseline_models_AUCs(train_x = train_X, test_x = val_X,\n",
    "                            train_y = train_Y, test_y = val_Y):\n",
    "    '''\n",
    "    This function prints out the AUCs for all baseline models.\n",
    "    It returns a dict with all the models as keys, and the AUCs as values.\n",
    "    '''\n",
    "    result = {}\n",
    "    models = {\"Logistic Regression\" : LogisticRegression(), \n",
    "              \"KNN\" : KNeighborsClassifier(n_neighbors = 6),\n",
    "              \"Support Vector Classifier\" : SVC(probability=True),\n",
    "              \"Random Forest\": RandomForestClassifier(random_state= 31),\n",
    "              \"Gaussian Naive Bayes\" : GaussianNB(),\n",
    "#               \"Multinomial Naive Bayes\" : MultinomialNB(),\n",
    "              \"Gradient Boost Classifier\" : GradientBoostingClassifier(),\n",
    "              \"Light GBM Classifier\" : LGBMClassifier(),\n",
    "#               \"XGBoost Classifier\" : XGBClassifier()\n",
    "              \n",
    "             }\n",
    "    \n",
    "    for key, algorithm in models.items():\n",
    "        if  key == \"XGBoost Classifier\":\n",
    "            test_x = test_x.as_matrix()\n",
    "            test_y = test_y.as_matrix()\n",
    "        fit_model = algorithm.fit(train_x, train_y)\n",
    "        model_roc_auc = get_model_ROC_AUC(fit_model, test_x, test_y)\n",
    "        print (f'{key} :  {model_roc_auc}\\n')\n",
    "        result[key] = [model_roc_auc, algorithm]\n",
    "    \n",
    "    return result"
   ]
  },
  {
   "cell_type": "code",
   "execution_count": 912,
   "metadata": {},
   "outputs": [
    {
     "data": {
      "text/plain": [
       "pandas.core.frame.DataFrame"
      ]
     },
     "execution_count": 912,
     "metadata": {},
     "output_type": "execute_result"
    }
   ],
   "source": [
    "type(val_Y)"
   ]
  },
  {
   "cell_type": "code",
   "execution_count": 913,
   "metadata": {
    "scrolled": false
   },
   "outputs": [
    {
     "name": "stdout",
     "output_type": "stream",
     "text": [
      "Logistic Regression :  0.701724124594881\n",
      "\n",
      "KNN :  0.6551325386941825\n",
      "\n",
      "Support Vector Classifier :  0.6595221336138549\n",
      "\n",
      "Random Forest :  0.6458389734149115\n",
      "\n",
      "Gaussian Naive Bayes :  0.7630121516363327\n",
      "\n",
      "Gradient Boost Classifier :  0.6955129444706574\n",
      "\n",
      "Light GBM Classifier :  0.6908390894394467\n",
      "\n"
     ]
    },
    {
     "data": {
      "text/plain": [
       "{'Logistic Regression': [0.701724124594881,\n",
       "  LogisticRegression(C=1.0, class_weight=None, dual=False, fit_intercept=True,\n",
       "            intercept_scaling=1, max_iter=100, multi_class='warn',\n",
       "            n_jobs=None, penalty='l2', random_state=None, solver='warn',\n",
       "            tol=0.0001, verbose=0, warm_start=False)],\n",
       " 'KNN': [0.6551325386941825,\n",
       "  KNeighborsClassifier(algorithm='auto', leaf_size=30, metric='minkowski',\n",
       "             metric_params=None, n_jobs=None, n_neighbors=6, p=2,\n",
       "             weights='uniform')],\n",
       " 'Support Vector Classifier': [0.6595221336138549,\n",
       "  SVC(C=1.0, cache_size=200, class_weight=None, coef0=0.0,\n",
       "    decision_function_shape='ovr', degree=3, gamma='auto_deprecated',\n",
       "    kernel='rbf', max_iter=-1, probability=True, random_state=None,\n",
       "    shrinking=True, tol=0.001, verbose=False)],\n",
       " 'Random Forest': [0.6458389734149115,\n",
       "  RandomForestClassifier(bootstrap=True, class_weight=None, criterion='gini',\n",
       "              max_depth=None, max_features='auto', max_leaf_nodes=None,\n",
       "              min_impurity_decrease=0.0, min_impurity_split=None,\n",
       "              min_samples_leaf=1, min_samples_split=2,\n",
       "              min_weight_fraction_leaf=0.0, n_estimators=10, n_jobs=None,\n",
       "              oob_score=False, random_state=31, verbose=0, warm_start=False)],\n",
       " 'Gaussian Naive Bayes': [0.7630121516363327,\n",
       "  GaussianNB(priors=None, var_smoothing=1e-09)],\n",
       " 'Gradient Boost Classifier': [0.6955129444706574,\n",
       "  GradientBoostingClassifier(criterion='friedman_mse', init=None,\n",
       "                learning_rate=0.1, loss='deviance', max_depth=3,\n",
       "                max_features=None, max_leaf_nodes=None,\n",
       "                min_impurity_decrease=0.0, min_impurity_split=None,\n",
       "                min_samples_leaf=1, min_samples_split=2,\n",
       "                min_weight_fraction_leaf=0.0, n_estimators=100,\n",
       "                n_iter_no_change=None, presort='auto', random_state=None,\n",
       "                subsample=1.0, tol=0.0001, validation_fraction=0.1,\n",
       "                verbose=0, warm_start=False)],\n",
       " 'Light GBM Classifier': [0.6908390894394467,\n",
       "  LGBMClassifier(boosting_type='gbdt', class_weight=None, colsample_bytree=1.0,\n",
       "          importance_type='split', learning_rate=0.1, max_depth=-1,\n",
       "          min_child_samples=20, min_child_weight=0.001, min_split_gain=0.0,\n",
       "          n_estimators=100, n_jobs=-1, num_leaves=31, objective=None,\n",
       "          random_state=None, reg_alpha=0.0, reg_lambda=0.0, silent=True,\n",
       "          subsample=1.0, subsample_for_bin=200000, subsample_freq=0)]}"
      ]
     },
     "execution_count": 913,
     "metadata": {},
     "output_type": "execute_result"
    }
   ],
   "source": [
    "get_baseline_models_AUCs()"
   ]
  },
  {
   "cell_type": "markdown",
   "metadata": {},
   "source": [
    "### Correlation Matrix"
   ]
  },
  {
   "cell_type": "code",
   "execution_count": 291,
   "metadata": {},
   "outputs": [],
   "source": [
    "def make_correlation_matrix(df = df_churn):   \n",
    "    '''\n",
    "    produces a plotly correlation matrix\n",
    "    \n",
    "    INPUT: dataframe\n",
    "    \n",
    "    RETURNS: the plotly plot.\n",
    "    \n",
    "    NOTE: you need to store the output of this function in a cariable, \n",
    "    and then put that in a new line to see the plot.\n",
    "    like so:\n",
    "\n",
    "    out = make_correlation_matrix(df_churn_scaled)\n",
    "    out\n",
    "    \n",
    "    '''\n",
    "    correlations = df.corr()\n",
    "    matrix_columns = correlations.columns.tolist()\n",
    "    corr_array  = np.array(correlations)\n",
    "\n",
    "    \n",
    "    heat = go.Heatmap(z = corr_array,\n",
    "                        x = matrix_columns,\n",
    "                        y = matrix_columns,\n",
    "                        colorscale = \"Jet\",\n",
    "                        colorbar   = dict(title = \"Pearson correlation coefficient\",\n",
    "                                         titleside = \"right\"\n",
    "                                        ) ,\n",
    "                      )\n",
    "\n",
    "    layout = go.Layout(dict(title = \"Correlation Matrix\",\n",
    "                            \n",
    "                            height  = 600,\n",
    "                            width   = 800,\n",
    "                            margin  = dict(r = 0 ,l = 200,\n",
    "                                           t = 25,b = 200,\n",
    "                                          ),\n",
    "                            yaxis   = dict(tickfont = dict(size = 10)),\n",
    "                            xaxis   = dict(tickfont = dict(size = 10))\n",
    "                           )\n",
    "                      )\n",
    "\n",
    "    fig = go.Figure(data= [heat],layout=layout)\n",
    "    return py.iplot(fig, filename = 'correlation-matrix')"
   ]
  },
  {
   "cell_type": "code",
   "execution_count": 914,
   "metadata": {
    "scrolled": false
   },
   "outputs": [
    {
     "data": {
      "text/html": [
       "<iframe id=\"igraph\" scrolling=\"no\" style=\"border:none;\" seamless=\"seamless\" src=\"https://plot.ly/~leoknauth/122.embed\" height=\"600px\" width=\"800px\"></iframe>"
      ],
      "text/plain": [
       "<plotly.tools.PlotlyDisplay object>"
      ]
     },
     "execution_count": 914,
     "metadata": {},
     "output_type": "execute_result"
    }
   ],
   "source": [
    "out = make_correlation_matrix(df_churn_scaled)\n",
    "out"
   ]
  },
  {
   "cell_type": "markdown",
   "metadata": {},
   "source": [
    "### Function for Model report"
   ]
  },
  {
   "cell_type": "code",
   "execution_count": 967,
   "metadata": {},
   "outputs": [],
   "source": [
    "def produce_model_report(model,train_x,test_x,train_y,test_y,name) :\n",
    "    model.fit(train_x,train_y)\n",
    "    predictions  = model.predict(test_x)\n",
    "    accuracy     = accuracy_score(test_y,predictions)\n",
    "    recallscore  = recall_score(test_y,predictions)\n",
    "    precision    = precision_score(test_y,predictions)\n",
    "    roc_auc      = roc_auc_score(test_y,predictions)\n",
    "    f1score      = f1_score(test_y,predictions) \n",
    "    kappa_metric = cohen_kappa_score(test_y,predictions)\n",
    "    \n",
    "    df = pd.DataFrame({\"Model\"           : [name],\n",
    "                       \"Accuracy_score\"  : [accuracy],\n",
    "                       \"Recall_score\"    : [recallscore],\n",
    "                       \"Precision\"       : [precision],\n",
    "                       \"f1_score\"        : [f1score],\n",
    "                       \"Area_under_curve\": [roc_auc],\n",
    "                       \"Kappa_metric\"    : [kappa_metric],\n",
    "                      })\n",
    "    return df"
   ]
  },
  {
   "cell_type": "markdown",
   "metadata": {},
   "source": [
    "## Model Pipeline"
   ]
  },
  {
   "cell_type": "code",
   "execution_count": 287,
   "metadata": {},
   "outputs": [],
   "source": [
    "def make_model_prediction_coefs(cols, cf, algorithm = LogisticRegression(), \n",
    "                                train_x = train_X , test_x = val_X ,\n",
    "                                train_y = train_Y ,test_y = val_Y ) :\n",
    "    \n",
    "    '''\n",
    "    This function fits the model, prints a summary including AUC curve, accuracy score, F1 score\n",
    "    It also produces 3 plotly graphs: A confusion matrix, an ROC curve, and a bar graph showing\n",
    "    feature importance for each feature.\n",
    "    \n",
    "    INPUT:\n",
    "    It takes columns, algorithm, train_df for x and y, test_df for x and y bas inputs\n",
    "    \n",
    "    cf is an input string that is either \"coefficients\" or \"features\"\n",
    "    \n",
    "    RETURNS: A tuple of (model, pyplot object)\n",
    "    \n",
    "    DEFAULT:\n",
    "    Its default algorithm is LogisticRegression()\n",
    "    default train dfs are train_X and train_Y\n",
    "    default test dfs are val_X and val_Y\n",
    "    \n",
    "    NOTE: you need to store the output of this function in a variable, \n",
    "    and then put that in a new line to see the plot.\n",
    "    like so:\n",
    "    \n",
    "    (logit_model, logit_graph) = make_model_prediction_coefs(cols = cols, cf = \"coefficients\")\n",
    "    logit_graph\n",
    "    '''\n",
    "    \n",
    "    \n",
    "    algorithm.fit(train_x, train_y)\n",
    "    \n",
    "    predictions   = algorithm.predict(test_x)  \n",
    "    probabilities = algorithm.predict_proba(test_x)\n",
    "\n",
    "    fpr, tpr, thresholds = roc_curve(test_y, probabilities[:,1])\n",
    "    \n",
    "    if   cf == \"coefficients\":\n",
    "        coefficients  = pd.DataFrame(algorithm.coef_.ravel())\n",
    "    elif cf == \"features\":\n",
    "        coefficients  = pd.DataFrame(algorithm.feature_importances_)\n",
    "        \n",
    "    column_df       = pd.DataFrame(cols)\n",
    "    coef_summary    = (pd.merge(coefficients,column_df,left_index= True,\n",
    "                              right_index= True, how = \"left\"))\n",
    "    coef_summary.columns = [\"coefficients\",\"features\"]\n",
    "    coef_summary    = coef_summary.sort_values(by = \"coefficients\",ascending = False)\n",
    "    \n",
    "    print(\"_____________________________________________________________\")   \n",
    "    print(\"\\n Results : \\n\", classification_report(test_y,predictions))\n",
    "    print(\"Accuracy - score : \", accuracy_score(test_y,predictions))\n",
    "    \n",
    "    \n",
    "    conf_matrix = confusion_matrix(test_y,predictions)\n",
    "    \n",
    "    \n",
    "\n",
    "    # making roc curve, redundant\n",
    "#     plot_roc(test_y, preds = predictions, probs = probabilities)\n",
    "    \n",
    "    # this can be commented out if using non-plotly roc curve above: plot_roc()\n",
    "    \n",
    "    model_roc_auc = roc_auc_score(test_y, predictions) \n",
    "    print (\"Area under curve : \",model_roc_auc,\"\\n\")\n",
    "    \n",
    "    fig = tls.make_subplots(rows=2, cols=2, specs=[[{}, {}], [{'colspan': 2}, None]],\n",
    "                            subplot_titles=('Confusion Matrix',\n",
    "                                            'Receiver operating characteristic',\n",
    "                                            'Feature Importances'),\n",
    "                            print_grid=False)\n",
    "    \n",
    "    \n",
    "    \n",
    "    bars = go.Bar(x = coef_summary[\"features\"], y = coef_summary[\"coefficients\"],\n",
    "                    name = \"coefficients\",\n",
    "                    marker = dict(color = coef_summary[\"coefficients\"],\n",
    "                                  colorscale = \"Jet\",\n",
    "                                  line = dict(width = .6, color = \"black\")))\n",
    "    \n",
    "    roc_line = go.Scatter(x = fpr, y = tpr,\n",
    "                        name = \"Roc : \" + str(model_roc_auc),\n",
    "                        line = dict(color = ('rgb(25, 96, 167)'),width = 2))\n",
    "    \n",
    "    roc_stand = go.Scatter(x = [0,1],y=[0,1],\n",
    "                        line = dict(color = ('rgb(215, 12, 24)'),width = 2,\n",
    "                        dash = 'dot'))\n",
    "    \n",
    "    c_matrix = go.Heatmap(z = conf_matrix ,\n",
    "                        x = [\"Non churn\",\"Churn\"],\n",
    "                        y = [\"Non churn\",\"Churn\"],\n",
    "                        showscale  = False, colorscale = \"Jet\",\n",
    "                        name = \"matrix\")\n",
    "    \n",
    "    \n",
    "    \n",
    "    \n",
    "    fig.append_trace(bars,2,1)\n",
    "    fig.append_trace(roc_line,1,2)\n",
    "    fig.append_trace(c_matrix,1,1)\n",
    "    fig.append_trace(roc_stand,1,2)\n",
    "    \n",
    "    fig['layout'].update(showlegend = False, title=\"Model performance\" ,\n",
    "                         autosize = False,height = 1000,width = 850,\n",
    "                         plot_bgcolor = 'rgba(250,250,250, 0.95)',\n",
    "                         paper_bgcolor = 'rgba(250,250,250, 0.95)',\n",
    "                         margin = dict(b = 185))\n",
    "    \n",
    "    fig[\"layout\"][\"xaxis2\"].update(dict(title = \"false positive rate\"))\n",
    "    fig[\"layout\"][\"yaxis2\"].update(dict(title = \"true positive rate\"))\n",
    "    fig[\"layout\"][\"xaxis1\"].update(dict(showgrid = True,tickfont = dict(size = 12),\n",
    "                                        tickangle = 0))\n",
    "#     print('\\nConfusion Matrix:')\n",
    "#     print(conf_matrix)\n",
    "    \n",
    "    \n",
    "    return(algorithm, py.iplot(fig, filename = 'jupyter-table1'))\n"
   ]
  },
  {
   "cell_type": "code",
   "execution_count": 931,
   "metadata": {
    "scrolled": false
   },
   "outputs": [
    {
     "name": "stdout",
     "output_type": "stream",
     "text": [
      "_____________________________________________________________\n",
      "\n",
      " Results : \n",
      "               precision    recall  f1-score   support\n",
      "\n",
      "           0       0.82      0.89      0.85       803\n",
      "           1       0.65      0.52      0.57       322\n",
      "\n",
      "   micro avg       0.78      0.78      0.78      1125\n",
      "   macro avg       0.73      0.70      0.71      1125\n",
      "weighted avg       0.77      0.78      0.77      1125\n",
      "\n",
      "Accuracy - score :  0.7813333333333333\n",
      "Area under curve :  0.701724124594881 \n",
      "\n"
     ]
    },
    {
     "data": {
      "text/html": [
       "<iframe id=\"igraph\" scrolling=\"no\" style=\"border:none;\" seamless=\"seamless\" src=\"https://plot.ly/~leoknauth/116.embed\" height=\"1000px\" width=\"850px\"></iframe>"
      ],
      "text/plain": [
       "<plotly.tools.PlotlyDisplay object>"
      ]
     },
     "execution_count": 931,
     "metadata": {},
     "output_type": "execute_result"
    }
   ],
   "source": [
    "(logit_model, logit_graph) = make_model_prediction_coefs(cols = cols, cf = \"coefficients\")\n",
    "logit_graph"
   ]
  },
  {
   "cell_type": "code",
   "execution_count": 1021,
   "metadata": {},
   "outputs": [],
   "source": [
    "important_features = ['Contract_Two year',\n",
    "                      'tenure', 'PhoneService_Yes',\n",
    "                      'Contract_One year', 'tenure_bin_Tenure_60+', 'Churn_Yes']"
   ]
  },
  {
   "cell_type": "markdown",
   "metadata": {},
   "source": [
    "## KNN"
   ]
  },
  {
   "cell_type": "code",
   "execution_count": 722,
   "metadata": {},
   "outputs": [],
   "source": [
    "knn = KNeighborsClassifier(algorithm = 'auto', leaf_size=30,\n",
    "           metric_params = None, n_jobs=-1, n_neighbors = 6, p = 2,\n",
    "           weights='uniform')"
   ]
  },
  {
   "cell_type": "code",
   "execution_count": 723,
   "metadata": {},
   "outputs": [
    {
     "data": {
      "text/plain": [
       "KNeighborsClassifier(algorithm='auto', leaf_size=30, metric='minkowski',\n",
       "           metric_params=None, n_jobs=-1, n_neighbors=6, p=2,\n",
       "           weights='uniform')"
      ]
     },
     "execution_count": 723,
     "metadata": {},
     "output_type": "execute_result"
    }
   ],
   "source": [
    "knn.fit(train_X,train_Y)"
   ]
  },
  {
   "cell_type": "code",
   "execution_count": 724,
   "metadata": {},
   "outputs": [],
   "source": [
    "predictions_knn   = knn.predict(val_X)\n",
    "probabilities_knn = knn.predict_proba(val_X)"
   ]
  },
  {
   "cell_type": "code",
   "execution_count": 725,
   "metadata": {},
   "outputs": [
    {
     "name": "stdout",
     "output_type": "stream",
     "text": [
      "\n",
      " Classification report: \n",
      "               precision    recall  f1-score   support\n",
      "\n",
      "           0       0.78      0.93      0.84       803\n",
      "           1       0.64      0.33      0.44       322\n",
      "\n",
      "   micro avg       0.76      0.76      0.76      1125\n",
      "   macro avg       0.71      0.63      0.64      1125\n",
      "weighted avg       0.74      0.76      0.73      1125\n",
      "\n",
      "Accuracy Score:  0.7564444444444445\n"
     ]
    }
   ],
   "source": [
    "print(\"\\n Classification report: \\n\",classification_report(val_Y ,predictions_knn))\n",
    "print(\"Accuracy Score: \",accuracy_score(val_Y ,predictions_knn))"
   ]
  },
  {
   "cell_type": "code",
   "execution_count": 728,
   "metadata": {
    "scrolled": true
   },
   "outputs": [
    {
     "name": "stdout",
     "output_type": "stream",
     "text": [
      "Area under curve :  0.6294118329556091 \n",
      "\n"
     ]
    },
    {
     "data": {
      "image/png": "[encoded data removed]",
      "text/plain": [
       "<Figure size 432x288 with 1 Axes>"
      ]
     },
     "metadata": {
      "needs_background": "light"
     },
     "output_type": "display_data"
    }
   ],
   "source": [
    "plot_roc(test_y = val_Y, preds = predictions_knn, probs = probabilities_knn)"
   ]
  },
  {
   "cell_type": "markdown",
   "metadata": {},
   "source": [
    "## Random Forest"
   ]
  },
  {
   "cell_type": "code",
   "execution_count": null,
   "metadata": {},
   "outputs": [],
   "source": [
    "forest = RandomForestClassifier()"
   ]
  },
  {
   "cell_type": "code",
   "execution_count": null,
   "metadata": {},
   "outputs": [],
   "source": []
  },
  {
   "cell_type": "markdown",
   "metadata": {},
   "source": [
    "## SMOTE"
   ]
  },
  {
   "cell_type": "code",
   "execution_count": 936,
   "metadata": {},
   "outputs": [],
   "source": [
    "train_X_SMOTE, train_Y_SMOTE = SMOTE(random_state = 1911).fit_sample(train_X, train_Y)\n",
    "train_val_X_SMOTE, train_val_Y_SMOTE = SMOTE(random_state = 1911).fit_sample(train_val_X, train_val_Y)\n",
    "val_X_SMOTE, val_Y_SMOTE = SMOTE(random_state = 1911).fit_sample(val_X, val_Y)"
   ]
  },
  {
   "cell_type": "code",
   "execution_count": 1020,
   "metadata": {
    "scrolled": false
   },
   "outputs": [],
   "source": [
    "# (logit_model_smote, logit_graph_smote) = make_model_prediction_coefs(cols = cols, cf = \"coefficients\", \n",
    "#                                                                      train_x =train_X_SMOTE, train_y = train_Y_SMOTE, \n",
    "#                                                                      test_x = val_X, test_y = val_Y)\n",
    "# logit_graph_smote"
   ]
  },
  {
   "cell_type": "code",
   "execution_count": 714,
   "metadata": {},
   "outputs": [
    {
     "name": "stdout",
     "output_type": "stream",
     "text": [
      "Logistic Regression :  0.765255292652553\n",
      "\n",
      "KNN :  0.6930261519302615\n",
      "\n",
      "Support Vector Classifier :  0.6488169364881694\n",
      "\n",
      "Random Forest :  0.8212951432129514\n",
      "\n",
      "Gaussian Naive Bayes :  0.7889165628891656\n",
      "\n",
      "Gradient Boost Classifier :  0.8449564134495641\n",
      "\n",
      "Light GBM Classifier :  0.8306351183063513\n",
      "\n",
      "XGBoost Classifier :  0.8480697384806973\n",
      "\n"
     ]
    },
    {
     "data": {
      "text/plain": [
       "{'Logistic Regression': 0.765255292652553,\n",
       " 'KNN': 0.6930261519302615,\n",
       " 'Support Vector Classifier': 0.6488169364881694,\n",
       " 'Random Forest': 0.8212951432129514,\n",
       " 'Gaussian Naive Bayes': 0.7889165628891656,\n",
       " 'Gradient Boost Classifier': 0.8449564134495641,\n",
       " 'Light GBM Classifier': 0.8306351183063513,\n",
       " 'XGBoost Classifier': 0.8480697384806973}"
      ]
     },
     "execution_count": 714,
     "metadata": {},
     "output_type": "execute_result"
    }
   ],
   "source": [
    "get_baseline_models_AUCs(train_x = train_X_SMOTE, test_x = val_X_SMOTE,\n",
    "                            train_y = train_Y_SMOTE, test_y = val_Y_SMOTE)"
   ]
  },
  {
   "cell_type": "markdown",
   "metadata": {},
   "source": [
    "SMOTE lead to an increased performance. "
   ]
  },
  {
   "cell_type": "markdown",
   "metadata": {},
   "source": [
    "## ADASYN"
   ]
  },
  {
   "cell_type": "code",
   "execution_count": 733,
   "metadata": {},
   "outputs": [],
   "source": [
    "train_X_ADASYN, train_Y_ADASYN = ADASYN(random_state = 1911).fit_sample(train_X, train_Y)\n",
    "train_val_X_ADASYN, train_val_Y_ADASYN = ADASYN(random_state = 1911).fit_sample(train_val_X, train_val_Y)\n",
    "# val_X_ADASYN, val_Y_ADASYN = ADASYN(random_state = 1911).fit_sample(val_X, val_Y)"
   ]
  },
  {
   "cell_type": "code",
   "execution_count": 1019,
   "metadata": {},
   "outputs": [],
   "source": [
    "# (logit_model_adasyn, logit_graph_adasyn) = make_model_prediction_coefs(cols = cols, cf = \"coefficients\", \n",
    "#                                                                      train_x = train_X_ADASYN, train_y = train_Y_ADASYN, \n",
    "#                                                                      test_x = val_X, test_y = val_Y)\n",
    "# logit_graph_adasyn"
   ]
  },
  {
   "cell_type": "code",
   "execution_count": 760,
   "metadata": {
    "scrolled": false
   },
   "outputs": [
    {
     "name": "stdout",
     "output_type": "stream",
     "text": [
      "Logistic Regression :  0.7474145866045807\n",
      "\n",
      "KNN :  0.6862870601703239\n",
      "\n",
      "Support Vector Classifier :  0.6556546491031303\n",
      "\n",
      "Random Forest :  0.654809603737537\n",
      "\n",
      "Gaussian Naive Bayes :  0.7626660117726229\n",
      "\n",
      "Gradient Boost Classifier :  0.7187739300604102\n",
      "\n",
      "Light GBM Classifier :  0.6877102944702707\n",
      "\n",
      "XGBoost Classifier :  0.718458730072786\n",
      "\n"
     ]
    },
    {
     "data": {
      "text/plain": [
       "{'Logistic Regression': [0.7474145866045807,\n",
       "  LogisticRegression(C=1.0, class_weight=None, dual=False, fit_intercept=True,\n",
       "            intercept_scaling=1, max_iter=100, multi_class='warn',\n",
       "            n_jobs=None, penalty='l2', random_state=None, solver='warn',\n",
       "            tol=0.0001, verbose=0, warm_start=False)],\n",
       " 'KNN': [0.6862870601703239,\n",
       "  KNeighborsClassifier(algorithm='auto', leaf_size=30, metric='minkowski',\n",
       "             metric_params=None, n_jobs=None, n_neighbors=6, p=2,\n",
       "             weights='uniform')],\n",
       " 'Support Vector Classifier': [0.6556546491031303,\n",
       "  SVC(C=1.0, cache_size=200, class_weight=None, coef0=0.0,\n",
       "    decision_function_shape='ovr', degree=3, gamma='auto_deprecated',\n",
       "    kernel='rbf', max_iter=-1, probability=True, random_state=None,\n",
       "    shrinking=True, tol=0.001, verbose=False)],\n",
       " 'Random Forest': [0.654809603737537,\n",
       "  RandomForestClassifier(bootstrap=True, class_weight=None, criterion='gini',\n",
       "              max_depth=None, max_features='auto', max_leaf_nodes=None,\n",
       "              min_impurity_decrease=0.0, min_impurity_split=None,\n",
       "              min_samples_leaf=1, min_samples_split=2,\n",
       "              min_weight_fraction_leaf=0.0, n_estimators=10, n_jobs=None,\n",
       "              oob_score=False, random_state=31, verbose=0, warm_start=False)],\n",
       " 'Gaussian Naive Bayes': [0.7626660117726229,\n",
       "  GaussianNB(priors=None, var_smoothing=1e-09)],\n",
       " 'Gradient Boost Classifier': [0.7187739300604102,\n",
       "  GradientBoostingClassifier(criterion='friedman_mse', init=None,\n",
       "                learning_rate=0.1, loss='deviance', max_depth=3,\n",
       "                max_features=None, max_leaf_nodes=None,\n",
       "                min_impurity_decrease=0.0, min_impurity_split=None,\n",
       "                min_samples_leaf=1, min_samples_split=2,\n",
       "                min_weight_fraction_leaf=0.0, n_estimators=100,\n",
       "                n_iter_no_change=None, presort='auto', random_state=None,\n",
       "                subsample=1.0, tol=0.0001, validation_fraction=0.1,\n",
       "                verbose=0, warm_start=False)],\n",
       " 'Light GBM Classifier': [0.6877102944702707,\n",
       "  LGBMClassifier(boosting_type='gbdt', class_weight=None, colsample_bytree=1.0,\n",
       "          importance_type='split', learning_rate=0.1, max_depth=-1,\n",
       "          min_child_samples=20, min_child_weight=0.001, min_split_gain=0.0,\n",
       "          n_estimators=100, n_jobs=-1, num_leaves=31, objective=None,\n",
       "          random_state=None, reg_alpha=0.0, reg_lambda=0.0, silent=True,\n",
       "          subsample=1.0, subsample_for_bin=200000, subsample_freq=0)],\n",
       " 'XGBoost Classifier': [0.718458730072786,\n",
       "  XGBClassifier(base_score=0.5, booster='gbtree', colsample_bylevel=1,\n",
       "         colsample_bytree=1, gamma=0, learning_rate=0.1, max_delta_step=0,\n",
       "         max_depth=3, min_child_weight=1, missing=None, n_estimators=100,\n",
       "         n_jobs=1, nthread=None, objective='binary:logistic', random_state=0,\n",
       "         reg_alpha=0, reg_lambda=1, scale_pos_weight=1, seed=None,\n",
       "         silent=True, subsample=1)]}"
      ]
     },
     "execution_count": 760,
     "metadata": {},
     "output_type": "execute_result"
    }
   ],
   "source": [
    "get_baseline_models_AUCs(train_x = train_X_ADASYN, test_x = val_X,\n",
    "                            train_y = train_Y_ADASYN, test_y = val_Y)"
   ]
  },
  {
   "cell_type": "markdown",
   "metadata": {},
   "source": [
    "ADASYN does a tiny bit better than SMOTE."
   ]
  },
  {
   "cell_type": "markdown",
   "metadata": {},
   "source": [
    "### Grid Search     \n",
    "\n",
    "noticed the issue with crossvalidating on upsampled (SMOTED) data. --- will remedy it.\n",
    "bad params to start with. "
   ]
  },
  {
   "cell_type": "code",
   "execution_count": 302,
   "metadata": {},
   "outputs": [
    {
     "name": "stdout",
     "output_type": "stream",
     "text": [
      "Fitting 5 folds for each of 432 candidates, totalling 2160 fits\n"
     ]
    },
    {
     "name": "stderr",
     "output_type": "stream",
     "text": [
      "[Parallel(n_jobs=-1)]: Using backend LokyBackend with 8 concurrent workers.\n",
      "[Parallel(n_jobs=-1)]: Done  34 tasks      | elapsed:    4.2s\n",
      "[Parallel(n_jobs=-1)]: Done 184 tasks      | elapsed:    9.9s\n",
      "[Parallel(n_jobs=-1)]: Done 434 tasks      | elapsed:   20.6s\n",
      "[Parallel(n_jobs=-1)]: Done 784 tasks      | elapsed:   34.2s\n",
      "[Parallel(n_jobs=-1)]: Done 1234 tasks      | elapsed: 12.5min\n",
      "[Parallel(n_jobs=-1)]: Done 1784 tasks      | elapsed: 59.6min\n",
      "[Parallel(n_jobs=-1)]: Done 2160 out of 2160 | elapsed: 91.4min finished\n"
     ]
    },
    {
     "data": {
      "text/plain": [
       "GridSearchCV(cv=5, error_score='raise-deprecating',\n",
       "       estimator=GradientBoostingClassifier(criterion='friedman_mse', init=None,\n",
       "              learning_rate=0.1, loss='deviance', max_depth=3,\n",
       "              max_features=None, max_leaf_nodes=None,\n",
       "              min_impurity_decrease=0.0, min_impurity_split=None,\n",
       "              min_samples_leaf=1, min_sampl...      subsample=1.0, tol=0.0001, validation_fraction=0.1,\n",
       "              verbose=0, warm_start=False),\n",
       "       fit_params=None, iid='warn', n_jobs=-1,\n",
       "       param_grid={'loss': ['deviance'], 'learning_rate': [0.05, 0.075, 0.1], 'min_samples_split': array([0.01 , 0.028, 0.046, 0.064, 0.082, 0.1  ]), 'min_samples_leaf': array([0.1 , 0.18, 0.26, 0.34, 0.42, 0.5 ]), 'max_depth': [10, 20], 'max_features': ['sqrt'], 'criterion': ['friedman_mse', 'mae'], 'subsample': [1.0], 'n_estimators': [125]},\n",
       "       pre_dispatch='2*n_jobs', refit=True, return_train_score='warn',\n",
       "       scoring='roc_auc', verbose=True)"
      ]
     },
     "execution_count": 302,
     "metadata": {},
     "output_type": "execute_result"
    }
   ],
   "source": [
    "parameter_grid={\n",
    "#     \"loss\":[\"deviance\"],\n",
    "    \"learning_rate\": [0.05, 0.075, 0.1],\n",
    "    \"min_samples_split\": np.linspace(0.01, 0.1, 6),\n",
    "    \"min_samples_leaf\": np.linspace(0.1, 0.5, 6),\n",
    "    \"max_depth\":[3,5,7],\n",
    "    \"max_features\":[\"sqrt\"],\n",
    "#     \"criterion\": [\"friedman_mse\",  \"mae\"],\n",
    "    \"subsample\":[ 1.0],\n",
    "    \"n_estimators\":[125]\n",
    "    }\n",
    "clf = GridSearchCV(GradientBoostingClassifier(), parameter_grid, cv=5, n_jobs=-1,scoring = 'roc_auc', verbose= True)\n",
    "clf.fit(train_X_SMOTE, train_Y_SMOTE)"
   ]
  },
  {
   "cell_type": "code",
   "execution_count": 303,
   "metadata": {},
   "outputs": [
    {
     "data": {
      "text/plain": [
       "0.9045428039465869"
      ]
     },
     "execution_count": 303,
     "metadata": {},
     "output_type": "execute_result"
    }
   ],
   "source": [
    "# clf.best_score_"
   ]
  },
  {
   "cell_type": "markdown",
   "metadata": {},
   "source": [
    "ROC_AUC is 0.9045428039465869"
   ]
  },
  {
   "cell_type": "code",
   "execution_count": 305,
   "metadata": {},
   "outputs": [],
   "source": [
    "# clf_best_params = clf.best_params_"
   ]
  },
  {
   "cell_type": "code",
   "execution_count": 306,
   "metadata": {
    "scrolled": true
   },
   "outputs": [
    {
     "data": {
      "text/plain": [
       "{'criterion': 'friedman_mse',\n",
       " 'learning_rate': 0.1,\n",
       " 'loss': 'deviance',\n",
       " 'max_depth': 10,\n",
       " 'max_features': 'sqrt',\n",
       " 'min_samples_leaf': 0.1,\n",
       " 'min_samples_split': 0.082,\n",
       " 'n_estimators': 125,\n",
       " 'subsample': 1.0}"
      ]
     },
     "execution_count": 306,
     "metadata": {},
     "output_type": "execute_result"
    }
   ],
   "source": [
    "# clf_best_params"
   ]
  },
  {
   "cell_type": "code",
   "execution_count": 729,
   "metadata": {},
   "outputs": [
    {
     "ename": "AttributeError",
     "evalue": "'GridSearchCV' object has no attribute 'to_pickle'",
     "output_type": "error",
     "traceback": [
      "\u001b[0;31m---------------------------------------------------------------------------\u001b[0m",
      "\u001b[0;31mAttributeError\u001b[0m                            Traceback (most recent call last)",
      "\u001b[0;32m<ipython-input-729-0054baff33f5>\u001b[0m in \u001b[0;36m<module>\u001b[0;34m\u001b[0m\n\u001b[0;32m----> 1\u001b[0;31m \u001b[0mclf\u001b[0m\u001b[0;34m.\u001b[0m\u001b[0mto_pickle\u001b[0m\u001b[0;34m(\u001b[0m\u001b[0;34m'GradientBoostingClassifier_GridSearchResults.pkl'\u001b[0m\u001b[0;34m)\u001b[0m\u001b[0;34m\u001b[0m\u001b[0;34m\u001b[0m\u001b[0m\n\u001b[0m",
      "\u001b[0;31mAttributeError\u001b[0m: 'GridSearchCV' object has no attribute 'to_pickle'"
     ]
    }
   ],
   "source": []
  },
  {
   "cell_type": "markdown",
   "metadata": {},
   "source": [
    "GradientBoostClassifier() performs best at\n",
    "\n",
    "{'criterion': 'friedman_mse',\n",
    " 'learning_rate': 0.1,\n",
    " 'loss': 'deviance',\n",
    " 'max_depth': 10,\n",
    " 'max_features': 'sqrt',\n",
    " 'min_samples_leaf': 0.1,\n",
    " 'min_samples_split': 0.082,\n",
    " 'n_estimators': 125,\n",
    " 'subsample': 1.0}\n"
   ]
  },
  {
   "cell_type": "markdown",
   "metadata": {},
   "source": [
    "### Grid Search V2\n",
    "\n",
    "horrible params."
   ]
  },
  {
   "cell_type": "code",
   "execution_count": 805,
   "metadata": {
    "scrolled": false
   },
   "outputs": [
    {
     "name": "stdout",
     "output_type": "stream",
     "text": [
      "Fitting 5 folds for each of 90 candidates, totalling 450 fits\n"
     ]
    },
    {
     "name": "stderr",
     "output_type": "stream",
     "text": [
      "[Parallel(n_jobs=-1)]: Using backend LokyBackend with 8 concurrent workers.\n",
      "[Parallel(n_jobs=-1)]: Done  34 tasks      | elapsed:   15.3s\n",
      "[Parallel(n_jobs=-1)]: Done 184 tasks      | elapsed:  5.8min\n",
      "[Parallel(n_jobs=-1)]: Done 434 tasks      | elapsed: 14.0min\n",
      "[Parallel(n_jobs=-1)]: Done 450 out of 450 | elapsed: 14.6min finished\n"
     ]
    },
    {
     "data": {
      "text/plain": [
       "GridSearchCV(cv=5, error_score='raise-deprecating',\n",
       "       estimator=GradientBoostingClassifier(criterion='friedman_mse', init=None,\n",
       "              learning_rate=0.1, loss='deviance', max_depth=3,\n",
       "              max_features=None, max_leaf_nodes=None,\n",
       "              min_impurity_decrease=0.0, min_impurity_split=None,\n",
       "              min_samples_leaf=1, min_sampl...      subsample=1.0, tol=0.0001, validation_fraction=0.1,\n",
       "              verbose=0, warm_start=False),\n",
       "       fit_params=None, iid='warn', n_jobs=-1,\n",
       "       param_grid={'learning_rate': [0.05, 0.075, 0.1], 'max_depth': [3, 5, 7, 9, 11, 15], 'criterion': ['friedman_mse'], 'n_estimators': [150, 300, 500, 700, 1500]},\n",
       "       pre_dispatch='2*n_jobs', refit=True, return_train_score='warn',\n",
       "       scoring='roc_auc', verbose=True)"
      ]
     },
     "execution_count": 805,
     "metadata": {},
     "output_type": "execute_result"
    }
   ],
   "source": [
    "parameter_grid={\n",
    "#     \"loss\":[\"deviance\"],\n",
    "    \"learning_rate\": [0.05, 0.075, 0.1],\n",
    "    #'min_samples_leaf': [1, 2],\n",
    "    #'min_samples_split': [2, 3],\n",
    "    \"max_depth\":[3,5,7,9,11,15],\n",
    "#     \"max_features\":[\"sqrt\"],\n",
    "#     \"criterion\": [\"friedman_mse\"],\n",
    "#     \"subsample\": [ 1.0],\n",
    "    \"n_estimators\": [150, 300, 500, 700, 1500],\n",
    "#     'class_weight':[{0:1,1:1},{0:1,1:2},{0:1,1:4},{0:1,1:6},{0:1,1:10}]\n",
    "    }\n",
    "clf = GridSearchCV(GradientBoostingClassifier(), parameter_grid, cv=5, n_jobs=-1,scoring = 'roc_auc', verbose= True)\n",
    "\n",
    "clf.fit(train_X, train_Y)"
   ]
  },
  {
   "cell_type": "code",
   "execution_count": null,
   "metadata": {},
   "outputs": [],
   "source": [
    "# clf.fit(train_X, val_X)"
   ]
  },
  {
   "cell_type": "code",
   "execution_count": 806,
   "metadata": {},
   "outputs": [],
   "source": [
    "clf_best_params = clf.best_params_"
   ]
  },
  {
   "cell_type": "code",
   "execution_count": 807,
   "metadata": {},
   "outputs": [
    {
     "data": {
      "text/plain": [
       "{'criterion': 'friedman_mse',\n",
       " 'learning_rate': 0.05,\n",
       " 'max_depth': 3,\n",
       " 'n_estimators': 150}"
      ]
     },
     "execution_count": 807,
     "metadata": {},
     "output_type": "execute_result"
    }
   ],
   "source": [
    "clf_best_params"
   ]
  },
  {
   "cell_type": "markdown",
   "metadata": {},
   "source": [
    "best params were:\n",
    "{'criterion': 'friedman_mse',\n",
    " 'learning_rate': 0.05,\n",
    " 'max_depth': 3,\n",
    " 'n_estimators': 150}\n",
    " \n",
    " time for another grid search with better params!"
   ]
  },
  {
   "cell_type": "code",
   "execution_count": 890,
   "metadata": {},
   "outputs": [
    {
     "name": "stdout",
     "output_type": "stream",
     "text": [
      "Fitting 5 folds for each of 60 candidates, totalling 300 fits\n"
     ]
    },
    {
     "name": "stderr",
     "output_type": "stream",
     "text": [
      "[Parallel(n_jobs=-1)]: Using backend LokyBackend with 8 concurrent workers.\n",
      "[Parallel(n_jobs=-1)]: Done  34 tasks      | elapsed:    5.7s\n",
      "[Parallel(n_jobs=-1)]: Done 184 tasks      | elapsed:   32.9s\n",
      "[Parallel(n_jobs=-1)]: Done 300 out of 300 | elapsed:   54.2s finished\n"
     ]
    },
    {
     "data": {
      "text/plain": [
       "GridSearchCV(cv=5, error_score='raise-deprecating',\n",
       "       estimator=GradientBoostingClassifier(criterion='friedman_mse', init=None,\n",
       "              learning_rate=0.1, loss='deviance', max_depth=3,\n",
       "              max_features=None, max_leaf_nodes=None,\n",
       "              min_impurity_decrease=0.0, min_impurity_split=None,\n",
       "              min_samples_leaf=1, min_sampl...      subsample=1.0, tol=0.0001, validation_fraction=0.1,\n",
       "              verbose=0, warm_start=False),\n",
       "       fit_params=None, iid='warn', n_jobs=-1,\n",
       "       param_grid={'learning_rate': [0.01, 0.025, 0.05], 'max_depth': [2, 3, 4, 5, 6], 'n_estimators': [100, 125, 150, 175]},\n",
       "       pre_dispatch='2*n_jobs', refit=True, return_train_score='warn',\n",
       "       scoring='roc_auc', verbose=True)"
      ]
     },
     "execution_count": 890,
     "metadata": {},
     "output_type": "execute_result"
    }
   ],
   "source": [
    "parameter_grid = {\n",
    "#     \"loss\":[\"deviance\"],\n",
    "    \"learning_rate\": [0.01, 0.025, 0.05],\n",
    "    #'min_samples_leaf': [1, 2],\n",
    "    #'min_samples_split': [2, 3],\n",
    "    \"max_depth\":[2,3,4,5,6],\n",
    "#     \"max_features\":[\"sqrt\"],\n",
    "#     \"criterion\": [\"friedman_mse\"],\n",
    "#     \"subsample\": [ 1.0],\n",
    "    \"n_estimators\": [100, 125, 150, 175],\n",
    "#     'class_weight':[{0:1,1:1},{0:1,1:2},{0:1,1:4},{0:1,1:6},{0:1,1:10}]\n",
    "    }\n",
    "clf2 = GridSearchCV(GradientBoostingClassifier(), parameter_grid, cv=5, n_jobs=-1,scoring = 'roc_auc', verbose= True)\n",
    "\n",
    "clf2.fit(train_X, train_Y)"
   ]
  },
  {
   "cell_type": "code",
   "execution_count": 817,
   "metadata": {},
   "outputs": [],
   "source": [
    "clf2_best_params = clf2.best_params_"
   ]
  },
  {
   "cell_type": "code",
   "execution_count": 818,
   "metadata": {},
   "outputs": [
    {
     "data": {
      "text/plain": [
       "{'learning_rate': 0.05, 'max_depth': 2, 'n_estimators': 125}"
      ]
     },
     "execution_count": 818,
     "metadata": {},
     "output_type": "execute_result"
    }
   ],
   "source": [
    "clf2_best_params"
   ]
  },
  {
   "cell_type": "code",
   "execution_count": null,
   "metadata": {},
   "outputs": [],
   "source": []
  },
  {
   "cell_type": "markdown",
   "metadata": {},
   "source": [
    "### Grid Search for XGBoost "
   ]
  },
  {
   "cell_type": "code",
   "execution_count": 336,
   "metadata": {},
   "outputs": [],
   "source": [
    "params_xgboost = {\n",
    "        'min_child_weight': [1, 5, 10],\n",
    "        'gamma': [0.5, 1, 1.5, 2, 5],\n",
    "        'subsample': [0.6, 0.8, 1.0],\n",
    "        'colsample_bytree': [0.6, 0.8, 1.0],\n",
    "        'max_depth': [3, 4, 5]\n",
    "        'n_estimators' : [150, 300, 500, 700, 1500]\n",
    "        }"
   ]
  },
  {
   "cell_type": "code",
   "execution_count": 337,
   "metadata": {},
   "outputs": [],
   "source": [
    "xgb = XGBClassifier(learning_rate=0.02,  objective='binary:logistic',\n",
    "                    silent=True, nthread=1)"
   ]
  },
  {
   "cell_type": "code",
   "execution_count": 341,
   "metadata": {},
   "outputs": [],
   "source": [
    "folds = 3\n",
    "param_comb = 5\n",
    "\n",
    "skf = StratifiedKFold(n_splits = folds, shuffle = True, random_state = 1001)"
   ]
  },
  {
   "cell_type": "code",
   "execution_count": 718,
   "metadata": {},
   "outputs": [],
   "source": [
    "random_search = RandomizedSearchCV(xgb, param_distributions = params_xgboost, \n",
    "                                   n_iter = param_comb, scoring = 'roc_auc', \n",
    "                                   n_jobs = -1, cv = skf.split(train_val_X, test_X), verbose=3, \n",
    "                                   random_state = 2000 )"
   ]
  },
  {
   "cell_type": "code",
   "execution_count": 719,
   "metadata": {},
   "outputs": [
    {
     "data": {
      "text/plain": [
       "RandomizedSearchCV(cv=<generator object _BaseKFold.split at 0x1a27fa3840>,\n",
       "          error_score='raise-deprecating',\n",
       "          estimator=XGBClassifier(base_score=0.5, booster='gbtree', colsample_bylevel=1,\n",
       "       colsample_bytree=1, gamma=0, learning_rate=0.02, max_delta_step=0,\n",
       "       max_depth=3, min_child_weight=1, missing=None, n_estimators=125,\n",
       "       n_jobs=1, nthread=1, objective='binary:logistic', random_state=0,\n",
       "       reg_alpha=0, reg_lambda=1, scale_pos_weight=1, seed=None,\n",
       "       silent=True, subsample=1),\n",
       "          fit_params=None, iid='warn', n_iter=5, n_jobs=-1,\n",
       "          param_distributions={'min_child_weight': [1, 5, 10], 'gamma': [0.5, 1, 1.5, 2, 5], 'subsample': [0.6, 0.8, 1.0], 'colsample_bytree': [0.6, 0.8, 1.0], 'max_depth': [3, 4, 5]},\n",
       "          pre_dispatch='2*n_jobs', random_state=2000, refit=True,\n",
       "          return_train_score='warn', scoring='roc_auc', verbose=3)"
      ]
     },
     "execution_count": 719,
     "metadata": {},
     "output_type": "execute_result"
    }
   ],
   "source": [
    "random_search"
   ]
  },
  {
   "cell_type": "code",
   "execution_count": 746,
   "metadata": {},
   "outputs": [
    {
     "ename": "NameError",
     "evalue": "name 'x_train' is not defined",
     "output_type": "error",
     "traceback": [
      "\u001b[0;31m---------------------------------------------------------------------------\u001b[0m",
      "\u001b[0;31mNameError\u001b[0m                                 Traceback (most recent call last)",
      "\u001b[0;32m<ipython-input-746-37597bd3ef2c>\u001b[0m in \u001b[0;36m<module>\u001b[0;34m\u001b[0m\n\u001b[1;32m      6\u001b[0m \u001b[0mcross_val_precision_lst\u001b[0m \u001b[0;34m=\u001b[0m \u001b[0;34m[\u001b[0m\u001b[0;34m]\u001b[0m\u001b[0;34m\u001b[0m\u001b[0;34m\u001b[0m\u001b[0m\n\u001b[1;32m      7\u001b[0m \u001b[0;34m\u001b[0m\u001b[0m\n\u001b[0;32m----> 8\u001b[0;31m \u001b[0;32mfor\u001b[0m \u001b[0mtrain_index_ls\u001b[0m\u001b[0;34m,\u001b[0m \u001b[0mvalidation_index_ls\u001b[0m \u001b[0;32min\u001b[0m \u001b[0mkf\u001b[0m\u001b[0;34m.\u001b[0m\u001b[0msplit\u001b[0m\u001b[0;34m(\u001b[0m\u001b[0mx_train\u001b[0m\u001b[0;34m,\u001b[0m \u001b[0my_train\u001b[0m\u001b[0;34m)\u001b[0m\u001b[0;34m:\u001b[0m\u001b[0;34m\u001b[0m\u001b[0;34m\u001b[0m\u001b[0m\n\u001b[0m\u001b[1;32m      9\u001b[0m     \u001b[0;31m# keeping validation set apart and oversampling in each iteration using smote\u001b[0m\u001b[0;34m\u001b[0m\u001b[0;34m\u001b[0m\u001b[0;34m\u001b[0m\u001b[0m\n\u001b[1;32m     10\u001b[0m     \u001b[0mtrain\u001b[0m\u001b[0;34m,\u001b[0m \u001b[0mvalidation\u001b[0m \u001b[0;34m=\u001b[0m \u001b[0mx_train\u001b[0m\u001b[0;34m.\u001b[0m\u001b[0miloc\u001b[0m\u001b[0;34m[\u001b[0m\u001b[0mtrain_index_ls\u001b[0m\u001b[0;34m]\u001b[0m\u001b[0;34m,\u001b[0m \u001b[0mx_train\u001b[0m\u001b[0;34m.\u001b[0m\u001b[0miloc\u001b[0m\u001b[0;34m[\u001b[0m\u001b[0mvalidation_index_ls\u001b[0m\u001b[0;34m]\u001b[0m\u001b[0;34m\u001b[0m\u001b[0;34m\u001b[0m\u001b[0m\n",
      "\u001b[0;31mNameError\u001b[0m: name 'x_train' is not defined"
     ]
    }
   ],
   "source": [
    "\n",
    "\n",
    "random_seed = 123\n",
    "kf = StratifiedKFold(n_splits=5, random_state=random_seed)\n",
    "cross_val_f1_score_lst = []\n",
    "cross_val_accuracy_lst = []\n",
    "cross_val_recall_lst = []\n",
    "cross_val_precision_lst = []\n",
    "\n",
    "for train_index_ls, validation_index_ls in kf.split(x_train, y_train):\n",
    "    # keeping validation set apart and oversampling in each iteration using smote \n",
    "    train, validation = x_train.iloc[train_index_ls], x_train.iloc[validation_index_ls]\n",
    "    target_train, target_val = y_train.iloc[train_index_ls], y_train.iloc[validation_index_ls]\n",
    "    sm = SMOTE(random_state=random_seed)\n",
    "    X_train_res, y_train_res = sm.fit_sample(train, target_train)\n",
    "    print (X_train_res.shape, y_train_res.shape)\n",
    "\n",
    "    # training the model on oversampled 4 folds of training set\n",
    "    rf = RandomForestClassifier(n_estimators=5, random_state=random_seed)\n",
    "    rf.fit(X_train_res, y_train_res)\n",
    "\n",
    "    # testing on 1 fold of validation set\n",
    "    validation_preds = rf.predict(validation)\n",
    "    cross_val_recall_lst.append(recall_score(target_val, validation_preds))\n",
    "    cross_val_accuracy_lst.append(accuracy_score(target_val, validation_preds))\n",
    "    cross_val_precision_lst.append(precision_score(target_val, validation_preds))\n",
    "    cross_val_f1_score_lst.append(f1_score(target_val, validation_preds))\n",
    "\n",
    "print ('Cross validated accuracy: {}'.format(np.mean(cross_val_accuracy_lst)))\n",
    "print ('Cross validated recall score: {}'.format(np.mean(cross_val_recall_lst)))\n",
    "print ('Cross validated precision score: {}'.format(np.mean(cross_val_precision_lst)))\n",
    "print ('Cross validated f1_score: {}'.format(np.mean(cross_val_f1_score_lst)))"
   ]
  },
  {
   "cell_type": "code",
   "execution_count": 790,
   "metadata": {},
   "outputs": [],
   "source": [
    "gbc = GradientBoostingClassifier(criterion= 'friedman_mse',\n",
    " learning_rate= 0.1,\n",
    " loss= 'deviance',\n",
    " max_depth= 10,\n",
    " max_features= 'sqrt',\n",
    " min_samples_leaf= 0.1,\n",
    " min_samples_split= 0.082,\n",
    " n_estimators= 125,\n",
    " subsample= 1.0)"
   ]
  },
  {
   "cell_type": "code",
   "execution_count": 791,
   "metadata": {},
   "outputs": [
    {
     "data": {
      "text/plain": [
       "GradientBoostingClassifier(criterion='friedman_mse', init=None,\n",
       "              learning_rate=0.1, loss='deviance', max_depth=10,\n",
       "              max_features='sqrt', max_leaf_nodes=None,\n",
       "              min_impurity_decrease=0.0, min_impurity_split=None,\n",
       "              min_samples_leaf=0.1, min_samples_split=0.082,\n",
       "              min_weight_fraction_leaf=0.0, n_estimators=125,\n",
       "              n_iter_no_change=None, presort='auto', random_state=None,\n",
       "              subsample=1.0, tol=0.0001, validation_fraction=0.1,\n",
       "              verbose=0, warm_start=False)"
      ]
     },
     "execution_count": 791,
     "metadata": {},
     "output_type": "execute_result"
    }
   ],
   "source": []
  },
  {
   "cell_type": "code",
   "execution_count": 792,
   "metadata": {},
   "outputs": [
    {
     "data": {
      "text/plain": [
       "0.8656488549618321"
      ]
     },
     "execution_count": 792,
     "metadata": {},
     "output_type": "execute_result"
    }
   ],
   "source": [
    "f1_score(train_Y_ADASYN ,gbc.predict(train_X_ADASYN))"
   ]
  },
  {
   "cell_type": "code",
   "execution_count": null,
   "metadata": {},
   "outputs": [],
   "source": []
  },
  {
   "cell_type": "code",
   "execution_count": 793,
   "metadata": {},
   "outputs": [
    {
     "data": {
      "text/plain": [
       "0.845605700712589"
      ]
     },
     "execution_count": 793,
     "metadata": {},
     "output_type": "execute_result"
    }
   ],
   "source": []
  },
  {
   "cell_type": "code",
   "execution_count": 794,
   "metadata": {},
   "outputs": [
    {
     "data": {
      "text/plain": [
       "0.6181318681318683"
      ]
     },
     "execution_count": 794,
     "metadata": {},
     "output_type": "execute_result"
    }
   ],
   "source": []
  },
  {
   "cell_type": "code",
   "execution_count": 795,
   "metadata": {},
   "outputs": [
    {
     "data": {
      "text/plain": [
       "0.8673175629100935"
      ]
     },
     "execution_count": 795,
     "metadata": {},
     "output_type": "execute_result"
    }
   ],
   "source": []
  },
  {
   "cell_type": "code",
   "execution_count": 796,
   "metadata": {},
   "outputs": [
    {
     "data": {
      "text/plain": [
       "0.8428583986521135"
      ]
     },
     "execution_count": 796,
     "metadata": {},
     "output_type": "execute_result"
    }
   ],
   "source": []
  },
  {
   "cell_type": "code",
   "execution_count": 797,
   "metadata": {},
   "outputs": [
    {
     "data": {
      "text/plain": [
       "0.737984496124031"
      ]
     },
     "execution_count": 797,
     "metadata": {},
     "output_type": "execute_result"
    }
   ],
   "source": []
  },
  {
   "cell_type": "code",
   "execution_count": null,
   "metadata": {},
   "outputs": [],
   "source": []
  },
  {
   "cell_type": "code",
   "execution_count": 830,
   "metadata": {},
   "outputs": [
    {
     "data": {
      "text/plain": [
       "GradientBoostingClassifier(criterion='friedman_mse', init=None,\n",
       "              learning_rate=0.05, loss='deviance', max_depth=3,\n",
       "              max_features=None, max_leaf_nodes=None,\n",
       "              min_impurity_decrease=0.0, min_impurity_split=None,\n",
       "              min_samples_leaf=1, min_samples_split=2,\n",
       "              min_weight_fraction_leaf=0.0, n_estimators=150,\n",
       "              n_iter_no_change=None, presort='auto', random_state=None,\n",
       "              subsample=1.0, tol=0.0001, validation_fraction=0.1,\n",
       "              verbose=0, warm_start=False)"
      ]
     },
     "execution_count": 830,
     "metadata": {},
     "output_type": "execute_result"
    }
   ],
   "source": [
    "gbc = GradientBoostingClassifier(criterion= 'friedman_mse',\n",
    " learning_rate= 0.05,\n",
    " max_depth= 3,\n",
    " n_estimators= 150)\n",
    "\n",
    "gbc.fit(train_val_X, train_val_Y)"
   ]
  },
  {
   "cell_type": "code",
   "execution_count": 831,
   "metadata": {},
   "outputs": [
    {
     "data": {
      "text/plain": [
       "GradientBoostingClassifier(criterion='friedman_mse', init=None,\n",
       "              learning_rate=0.05, loss='deviance', max_depth=2,\n",
       "              max_features=None, max_leaf_nodes=None,\n",
       "              min_impurity_decrease=0.0, min_impurity_split=None,\n",
       "              min_samples_leaf=1, min_samples_split=2,\n",
       "              min_weight_fraction_leaf=0.0, n_estimators=125,\n",
       "              n_iter_no_change=None, presort='auto', random_state=None,\n",
       "              subsample=1.0, tol=0.0001, validation_fraction=0.1,\n",
       "              verbose=0, warm_start=False)"
      ]
     },
     "execution_count": 831,
     "metadata": {},
     "output_type": "execute_result"
    }
   ],
   "source": [
    "gbc2 = GradientBoostingClassifier(criterion = 'friedman_mse',\n",
    " learning_rate= 0.05,\n",
    " max_depth= 2,\n",
    " n_estimators= 125)\n",
    "\n",
    "gbc2.fit(train_val_X, train_val_Y)"
   ]
  },
  {
   "cell_type": "code",
   "execution_count": 832,
   "metadata": {},
   "outputs": [
    {
     "data": {
      "text/plain": [
       "0.704515503875969"
      ]
     },
     "execution_count": 832,
     "metadata": {},
     "output_type": "execute_result"
    }
   ],
   "source": [
    "roc_auc_score(test_Y ,gbc.predict(test_X))"
   ]
  },
  {
   "cell_type": "code",
   "execution_count": 833,
   "metadata": {},
   "outputs": [
    {
     "data": {
      "text/plain": [
       "0.6971201550387597"
      ]
     },
     "execution_count": 833,
     "metadata": {},
     "output_type": "execute_result"
    }
   ],
   "source": [
    "roc_auc_score(test_Y ,gbc2.predict(test_X))"
   ]
  },
  {
   "cell_type": "code",
   "execution_count": 836,
   "metadata": {},
   "outputs": [],
   "source": [
    "nbg = GaussianNB()"
   ]
  },
  {
   "cell_type": "code",
   "execution_count": 838,
   "metadata": {},
   "outputs": [
    {
     "data": {
      "text/plain": [
       "GaussianNB(priors=None, var_smoothing=1e-09)"
      ]
     },
     "execution_count": 838,
     "metadata": {},
     "output_type": "execute_result"
    }
   ],
   "source": [
    "nbg.fit(train_val_X, train_val_Y)"
   ]
  },
  {
   "cell_type": "code",
   "execution_count": 839,
   "metadata": {},
   "outputs": [
    {
     "data": {
      "text/plain": [
       "0.7398527131782946"
      ]
     },
     "execution_count": 839,
     "metadata": {},
     "output_type": "execute_result"
    }
   ],
   "source": [
    "roc_auc_score(test_Y ,nbg.predict(test_X))"
   ]
  },
  {
   "cell_type": "markdown",
   "metadata": {},
   "source": [
    "### Light GBM "
   ]
  },
  {
   "cell_type": "code",
   "execution_count": 843,
   "metadata": {},
   "outputs": [],
   "source": [
    "params_LGBM = {'learning_rate' : [0.01, 0.02, 0.05, 0.1, 0.2],\n",
    "              'n_estimators' : [50, 75, 100, 125],\n",
    "              'num_leaves': [10, 15, 20, 25], \n",
    "              'min_child_samples': [50, 75, 100, 125], \n",
    "              'min_child_weight': [ 1, 10, 100, 1000],\n",
    "#               'subsample': sp_uniform(loc=0.2, scale=0.8), \n",
    "              'max_depth': [1, 2, 3, 4, 5, 6, 7, 8],\n",
    "              'colsample_bytree': sp_uniform(loc=0.4, scale=0.6),\n",
    "              'reg_alpha': [0, 0.1, 1, 2, 5, 7, 10, 50, 100],\n",
    "              'reg_lambda': [0, 0.1, 1, 5, 10, 20, 50, 100],\n",
    "              }\n",
    "\n",
    "n_iter = 1000\n",
    "seed = 101\n",
    "\n"
   ]
  },
  {
   "cell_type": "code",
   "execution_count": 847,
   "metadata": {},
   "outputs": [
    {
     "name": "stdout",
     "output_type": "stream",
     "text": [
      "Fitting 5 folds for each of 10 candidates, totalling 50 fits\n"
     ]
    },
    {
     "name": "stderr",
     "output_type": "stream",
     "text": [
      "[Parallel(n_jobs=1)]: Using backend SequentialBackend with 1 concurrent workers.\n"
     ]
    },
    {
     "name": "stdout",
     "output_type": "stream",
     "text": [
      "Best params: {'colsample_bytree': 0.9867471459313902, 'learning_rate': 0.1, 'max_depth': 7, 'min_child_samples': 100, 'min_child_weight': 1, 'n_estimators': 125, 'num_leaves': 25, 'reg_alpha': 50, 'reg_lambda': 0} \n"
     ]
    },
    {
     "name": "stderr",
     "output_type": "stream",
     "text": [
      "[Parallel(n_jobs=1)]: Done  50 out of  50 | elapsed:    3.0s finished\n"
     ]
    }
   ],
   "source": [
    "lgbm = LGBMClassifier(random_state=seed, silent=False, metric='None', n_jobs=-1)\n",
    "grid_search = RandomizedSearchCV(\n",
    "    estimator=lgbm, param_distributions=params_LGBM, \n",
    "#     n_iter=n_iter,\n",
    "    scoring='accuracy',\n",
    "    cv=5,\n",
    "    refit=True,\n",
    "    random_state= seed,\n",
    "    verbose=True)\n",
    "\n",
    "\n",
    "\n",
    "grid_search.fit(train_val_X, train_val_Y)\n",
    "print('Best params: {} '.format(grid_search.best_params_))\n",
    "\n",
    "opt_parameters =  grid_search.best_params_"
   ]
  },
  {
   "cell_type": "markdown",
   "metadata": {},
   "source": [
    "best params first grid search were\n",
    "\n",
    "{'colsample_bytree': 0.9867471459313902, 'learning_rate': 0.1, 'max_depth': 7, 'min_child_samples': 100, 'min_child_weight': 1, 'n_estimators': 125, 'num_leaves': 25, 'reg_alpha': 50, 'reg_lambda': 0} "
   ]
  },
  {
   "cell_type": "code",
   "execution_count": 891,
   "metadata": {},
   "outputs": [
    {
     "data": {
      "text/plain": [
       "LGBMClassifier(boosting_type='gbdt', class_weight=None,\n",
       "        colsample_bytree=0.9867471459313902, importance_type='split',\n",
       "        learning_rate=0.1, max_depth=7, min_child_samples=100,\n",
       "        min_child_weight=1, min_split_gain=0.0, n_estimators=125,\n",
       "        n_jobs=-1, num_leaves=25, objective=None, random_state=None,\n",
       "        reg_alpha=50, reg_lambda=0, silent=True, subsample=1.0,\n",
       "        subsample_for_bin=200000, subsample_freq=0)"
      ]
     },
     "execution_count": 891,
     "metadata": {},
     "output_type": "execute_result"
    }
   ],
   "source": [
    "lgbm1 = LGBMClassifier(colsample_bytree= 0.9867471459313902, \n",
    "                        learning_rate= 0.1, \n",
    "                        max_depth= 7, \n",
    "                        min_child_samples= 100, \n",
    "                        min_child_weight= 1, \n",
    "                        n_estimators= 125, \n",
    "                        num_leaves= 25, \n",
    "                        reg_alpha= 50, \n",
    "                        reg_lambda= 0)\n",
    "\n",
    "lgbm1.fit(train_val_X, train_val_Y)"
   ]
  },
  {
   "cell_type": "code",
   "execution_count": 892,
   "metadata": {},
   "outputs": [
    {
     "data": {
      "text/plain": [
       "0.6744534883720931"
      ]
     },
     "execution_count": 892,
     "metadata": {},
     "output_type": "execute_result"
    }
   ],
   "source": [
    "roc_auc_score(test_Y ,lgbm1.predict(test_X))"
   ]
  },
  {
   "cell_type": "code",
   "execution_count": 896,
   "metadata": {},
   "outputs": [],
   "source": [
    "nbc = GaussianNB().fit(train_val_X, train_val_Y)"
   ]
  },
  {
   "cell_type": "code",
   "execution_count": 897,
   "metadata": {},
   "outputs": [
    {
     "data": {
      "text/plain": [
       "0.7398527131782946"
      ]
     },
     "execution_count": 897,
     "metadata": {},
     "output_type": "execute_result"
    }
   ],
   "source": [
    "roc_auc_score(test_Y ,nbc.predict(test_X))"
   ]
  },
  {
   "cell_type": "code",
   "execution_count": 953,
   "metadata": {},
   "outputs": [],
   "source": [
    "nbc2 = GaussianNB().fit(train_val_X_SMOTE, train_val_Y_SMOTE)"
   ]
  },
  {
   "cell_type": "code",
   "execution_count": 954,
   "metadata": {},
   "outputs": [
    {
     "data": {
      "text/plain": [
       "0.740220930232558"
      ]
     },
     "execution_count": 954,
     "metadata": {},
     "output_type": "execute_result"
    }
   ],
   "source": [
    "roc_auc_score(test_Y ,nbc2.predict(test_X))"
   ]
  },
  {
   "cell_type": "code",
   "execution_count": 955,
   "metadata": {},
   "outputs": [],
   "source": [
    "nbc3 = GaussianNB().fit(train_X_SMOTE, train_Y_SMOTE)"
   ]
  },
  {
   "cell_type": "code",
   "execution_count": 956,
   "metadata": {},
   "outputs": [
    {
     "data": {
      "text/plain": [
       "0.7714819427148194"
      ]
     },
     "execution_count": 956,
     "metadata": {},
     "output_type": "execute_result"
    }
   ],
   "source": [
    "roc_auc_score(val_Y_SMOTE ,nbc3.predict(val_X_SMOTE))"
   ]
  },
  {
   "cell_type": "code",
   "execution_count": 927,
   "metadata": {},
   "outputs": [],
   "source": [
    "xgb =  XGBClassifier(subsample= 1.0, \n",
    "                     min_child_weight= 5, \n",
    "                     max_depth= 5, gamma= 5, \n",
    "                     colsample_bytree= 0.6, \n",
    "                     n_estimators = 100,\n",
    "                    )"
   ]
  },
  {
   "cell_type": "code",
   "execution_count": 928,
   "metadata": {},
   "outputs": [
    {
     "data": {
      "text/plain": [
       "XGBClassifier(base_score=0.5, booster='gbtree', colsample_bylevel=1,\n",
       "       colsample_bytree=0.6, gamma=5, learning_rate=0.1, max_delta_step=0,\n",
       "       max_depth=5, min_child_weight=5, missing=None, n_estimators=100,\n",
       "       n_jobs=1, nthread=None, objective='binary:logistic', random_state=0,\n",
       "       reg_alpha=0, reg_lambda=1, scale_pos_weight=1, seed=None,\n",
       "       silent=True, subsample=1.0)"
      ]
     },
     "execution_count": 928,
     "metadata": {},
     "output_type": "execute_result"
    }
   ],
   "source": [
    "xgb.fit(train_val_X, train_val_Y)"
   ]
  },
  {
   "cell_type": "code",
   "execution_count": null,
   "metadata": {},
   "outputs": [],
   "source": []
  },
  {
   "cell_type": "code",
   "execution_count": 929,
   "metadata": {},
   "outputs": [
    {
     "data": {
      "text/plain": [
       "0.7014883720930234"
      ]
     },
     "execution_count": 929,
     "metadata": {},
     "output_type": "execute_result"
    }
   ],
   "source": [
    "roc_auc_score(test_Y ,xgb.predict(test_X))"
   ]
  },
  {
   "cell_type": "code",
   "execution_count": 940,
   "metadata": {},
   "outputs": [],
   "source": [
    "xgb2 =  XGBClassifier(subsample= 1.0, \n",
    "                     min_child_weight= 5, \n",
    "                     max_depth= 5, gamma= 5, \n",
    "                     colsample_bytree= 0.6, \n",
    "                     n_estimators = 100,\n",
    "                    )"
   ]
  },
  {
   "cell_type": "code",
   "execution_count": 973,
   "metadata": {},
   "outputs": [
    {
     "data": {
      "text/plain": [
       "XGBClassifier(base_score=0.5, booster='gbtree', colsample_bylevel=1,\n",
       "       colsample_bytree=0.6, gamma=5, learning_rate=0.1, max_delta_step=0,\n",
       "       max_depth=5, min_child_weight=5, missing=None, n_estimators=100,\n",
       "       n_jobs=1, nthread=None, objective='binary:logistic', random_state=0,\n",
       "       reg_alpha=0, reg_lambda=1, scale_pos_weight=1, seed=None,\n",
       "       silent=True, subsample=1.0)"
      ]
     },
     "execution_count": 973,
     "metadata": {},
     "output_type": "execute_result"
    }
   ],
   "source": [
    "xgb2.fit(train_X_SMOTE, train_Y_SMOTE)"
   ]
  },
  {
   "cell_type": "code",
   "execution_count": 978,
   "metadata": {},
   "outputs": [
    {
     "data": {
      "text/plain": [
       "0.836239103362391"
      ]
     },
     "execution_count": 978,
     "metadata": {},
     "output_type": "execute_result"
    }
   ],
   "source": [
    "roc_auc_score(val_Y_SMOTE ,xgb2.predict(val_X_SMOTE))"
   ]
  },
  {
   "cell_type": "code",
   "execution_count": 963,
   "metadata": {},
   "outputs": [],
   "source": [
    "xgb3 =  XGBClassifier(subsample= 1.0, \n",
    "                     min_child_weight= 5, \n",
    "                     max_depth= 5, gamma= 5, \n",
    "                     colsample_bytree= 0.6, \n",
    "                     n_estimators = 100,\n",
    "                    )"
   ]
  },
  {
   "cell_type": "code",
   "execution_count": 969,
   "metadata": {},
   "outputs": [
    {
     "data": {
      "text/plain": [
       "XGBClassifier(base_score=0.5, booster='gbtree', colsample_bylevel=1,\n",
       "       colsample_bytree=0.6, gamma=5, learning_rate=0.1, max_delta_step=0,\n",
       "       max_depth=5, min_child_weight=5, missing=None, n_estimators=100,\n",
       "       n_jobs=1, nthread=None, objective='binary:logistic', random_state=0,\n",
       "       reg_alpha=0, reg_lambda=1, scale_pos_weight=1, seed=None,\n",
       "       silent=True, subsample=1.0)"
      ]
     },
     "execution_count": 969,
     "metadata": {},
     "output_type": "execute_result"
    }
   ],
   "source": [
    "xgb3.fit(train_val_X_SMOTE, train_val_Y_SMOTE)"
   ]
  },
  {
   "cell_type": "code",
   "execution_count": 970,
   "metadata": {},
   "outputs": [
    {
     "data": {
      "text/plain": [
       "0.7284186046511628"
      ]
     },
     "execution_count": 970,
     "metadata": {},
     "output_type": "execute_result"
    }
   ],
   "source": [
    "roc_auc_score(test_Y.as_matrix() ,xgb3.predict(test_X.as_matrix()))"
   ]
  },
  {
   "cell_type": "code",
   "execution_count": 1080,
   "metadata": {},
   "outputs": [],
   "source": [
    "kernels =['linear', 'poly', 'rbf', 'sigmoid', 'precomputed']"
   ]
  },
  {
   "cell_type": "code",
   "execution_count": 1092,
   "metadata": {},
   "outputs": [],
   "source": [
    "svc_lin  = SVC(C=1.0, cache_size=200, class_weight=None, coef0=0.0,\n",
    "               decision_function_shape='ovr', degree=3, gamma=1.0, kernel='linear',\n",
    "               max_iter=-1, probability=True, random_state=None, shrinking=True,\n",
    "               tol=0.001, verbose=False)"
   ]
  },
  {
   "cell_type": "code",
   "execution_count": 1093,
   "metadata": {},
   "outputs": [
    {
     "data": {
      "text/plain": [
       "SVC(C=1.0, cache_size=200, class_weight=None, coef0=0.0,\n",
       "  decision_function_shape='ovr', degree=3, gamma=1.0, kernel='linear',\n",
       "  max_iter=-1, probability=True, random_state=None, shrinking=True,\n",
       "  tol=0.001, verbose=False)"
      ]
     },
     "execution_count": 1093,
     "metadata": {},
     "output_type": "execute_result"
    }
   ],
   "source": [
    "svc_lin.fit(train_val_X, train_val_Y)"
   ]
  },
  {
   "cell_type": "code",
   "execution_count": 1094,
   "metadata": {},
   "outputs": [
    {
     "data": {
      "text/plain": [
       "0.6933604651162791"
      ]
     },
     "execution_count": 1094,
     "metadata": {},
     "output_type": "execute_result"
    }
   ],
   "source": [
    "roc_auc_score(test_Y ,svc_lin.predict(test_X))"
   ]
  },
  {
   "cell_type": "code",
   "execution_count": 980,
   "metadata": {},
   "outputs": [],
   "source": [
    "logit1 = LogisticRegression(C=1.0, class_weight=None, dual=False, fit_intercept=True,\n",
    "          intercept_scaling=1, multi_class='ovr', n_jobs=-1,\n",
    "          penalty='l2', random_state=None, solver='liblinear', tol=0.0001,\n",
    "          verbose=0, warm_start=False)"
   ]
  },
  {
   "cell_type": "code",
   "execution_count": 981,
   "metadata": {},
   "outputs": [
    {
     "data": {
      "text/plain": [
       "LogisticRegression(C=1.0, class_weight=None, dual=False, fit_intercept=True,\n",
       "          intercept_scaling=1, max_iter=100, multi_class='ovr', n_jobs=-1,\n",
       "          penalty='l2', random_state=None, solver='liblinear', tol=0.0001,\n",
       "          verbose=0, warm_start=False)"
      ]
     },
     "execution_count": 981,
     "metadata": {},
     "output_type": "execute_result"
    }
   ],
   "source": [
    "logit1.fit(train_val_X, train_val_Y)"
   ]
  },
  {
   "cell_type": "code",
   "execution_count": 982,
   "metadata": {},
   "outputs": [
    {
     "data": {
      "text/plain": [
       "0.7161550387596899"
      ]
     },
     "execution_count": 982,
     "metadata": {},
     "output_type": "execute_result"
    }
   ],
   "source": [
    "roc_auc_score(test_Y ,logit1.predict(test_X))"
   ]
  },
  {
   "cell_type": "markdown",
   "metadata": {},
   "source": [
    "## Model Comparision\n"
   ]
  },
  {
   "cell_type": "code",
   "execution_count": 1016,
   "metadata": {},
   "outputs": [],
   "source": [
    "models = {\"Logistic Regression\" : LogisticRegression(C=1.0,\n",
    "                                                     class_weight=None,\n",
    "                                                     dual=False,\n",
    "                                                     fit_intercept=True, \n",
    "                                                     intercept_scaling=1,\n",
    "                                                     multi_class='ovr',\n",
    "                                                     n_jobs=-1,\n",
    "                                                     penalty='l2',\n",
    "                                                     random_state=None,\n",
    "                                                     solver='liblinear',\n",
    "                                                     tol=0.0001,\n",
    "                                                     verbose=0,\n",
    "                                                     warm_start=False), \n",
    "          \n",
    "              \"KNN\" : KNeighborsClassifier(n_neighbors = 6),\n",
    "          \n",
    "              \"Support Vector Classifier\" : SVC(C=1.0, \n",
    "                                             cache_size=200, \n",
    "                                             class_weight=None, \n",
    "                                             coef0=0.0,\n",
    "                                             decision_function_shape='ovr', \n",
    "                                             degree=3, gamma=1.0, \n",
    "                                             kernel='linear',\n",
    "                                             max_iter=-1,\n",
    "                                             probability=True,\n",
    "                                             random_state=None,\n",
    "                                             shrinking=True,\n",
    "               tol=0.001, verbose=False),\n",
    "              \"Random Forest\": RandomForestClassifier(random_state= 31,\n",
    "                                                    max_depth= 7, \n",
    "                                                    n_estimators= 125, \n",
    "                                                     ),\n",
    "              \"Gaussian Naive Bayes\" : GaussianNB(),\n",
    "#               \"Multinomial Naive Bayes\" : MultinomialNB(),\n",
    "              \"Gradient Boost Classifier\" : GradientBoostingClassifier(),\n",
    "              \"Light GBM Classifier\" : LGBMClassifier(colsample_bytree= 0.9867471459313902, \n",
    "                                        learning_rate= 0.1, \n",
    "                                        max_depth= 7, \n",
    "                                        min_child_samples= 100, \n",
    "                                        min_child_weight= 1, \n",
    "                                        n_estimators= 125, \n",
    "                                        num_leaves= 25, \n",
    "                                        reg_alpha= 50, \n",
    "                                        reg_lambda= 0),\n",
    "              \"XGBoost Classifier\" : XGBClassifier(subsample= 1.0, \n",
    "                                                     min_child_weight= 5, \n",
    "                                                     max_depth= 5, gamma= 5, \n",
    "                                                     colsample_bytree= 0.6, \n",
    "                                                     n_estimators = 100,\n",
    "                                                    )\n",
    "              \n",
    "             }\n",
    "\n",
    "# fitting ALL the models !\n",
    "for key, model in models.items():\n",
    "    model.fit(train_X, train_Y)"
   ]
  },
  {
   "cell_type": "code",
   "execution_count": null,
   "metadata": {},
   "outputs": [],
   "source": []
  },
  {
   "cell_type": "code",
   "execution_count": 1017,
   "metadata": {},
   "outputs": [
    {
     "data": {
      "image/png": "[encoded data removed]",
      "text/plain": [
       "<Figure size 1008x1008 with 1 Axes>"
      ]
     },
     "metadata": {
      "needs_background": "light"
     },
     "output_type": "display_data"
    }
   ],
   "source": [
    "plot_comparison_roc(models,\n",
    "#                     train_x = train_X ,\n",
    "                    test_x = val_X ,\n",
    "#                     train_y = train_Y ,\n",
    "                    test_y = val_Y,\n",
    "                   )"
   ]
  },
  {
   "cell_type": "code",
   "execution_count": 1029,
   "metadata": {},
   "outputs": [],
   "source": [
    "best_models = {\"Logistic Regression\" : LogisticRegression(C=1.0,\n",
    "                                                     class_weight=None,\n",
    "                                                     dual=False,\n",
    "                                                     fit_intercept=True, \n",
    "                                                     intercept_scaling=1,\n",
    "                                                     multi_class='ovr',\n",
    "                                                     n_jobs=-1,\n",
    "                                                     penalty='l2',\n",
    "                                                     random_state=None,\n",
    "                                                     solver='liblinear',\n",
    "                                                     tol=0.0001,\n",
    "                                                     verbose=0,\n",
    "                                                     warm_start=False), \n",
    "          \n",
    "          \n",
    "              \"Support Vector Classifier\" : SVC(C=1.0, \n",
    "                                             cache_size=200, \n",
    "                                             class_weight=None, \n",
    "                                             coef0=0.0,\n",
    "                                             decision_function_shape='ovr', \n",
    "                                             degree=3, gamma=1.0, \n",
    "                                             kernel='linear',\n",
    "                                             max_iter=-1,\n",
    "                                             probability=True,\n",
    "                                             random_state=None,\n",
    "                                             shrinking=True,\n",
    "               tol=0.001, verbose=False),\n",
    "\n",
    "              \"Gaussian Naive Bayes\" : GaussianNB(),\n",
    "#               \"Multinomial Naive Bayes\" : MultinomialNB(),\n",
    "              \"Light GBM Classifier\" : LGBMClassifier(colsample_bytree= 0.9867471459313902, \n",
    "                                        learning_rate= 0.1, \n",
    "                                        max_depth= 7, \n",
    "                                        min_child_samples= 100, \n",
    "                                        min_child_weight= 1, \n",
    "                                        n_estimators= 125, \n",
    "                                        num_leaves= 25, \n",
    "                                        reg_alpha= 50, \n",
    "                                        reg_lambda= 0),\n",
    "              \"XGBoost Classifier\" : XGBClassifier(subsample= 1.0, \n",
    "                                                     min_child_weight= 5, \n",
    "                                                     max_depth= 5, gamma= 5, \n",
    "                                                     colsample_bytree= 0.6, \n",
    "                                                     n_estimators = 100,\n",
    "                                                    )\n",
    "              \n",
    "             }\n",
    "\n",
    "# fitting ALL the models !\n",
    "for key, model in best_models.items():\n",
    "    model.fit(train_X, train_Y)"
   ]
  },
  {
   "cell_type": "code",
   "execution_count": 1030,
   "metadata": {},
   "outputs": [
    {
     "data": {
      "image/png": "[encoded data removed]",
      "text/plain": [
       "<Figure size 1008x1008 with 1 Axes>"
      ]
     },
     "metadata": {
      "needs_background": "light"
     },
     "output_type": "display_data"
    }
   ],
   "source": [
    "plot_comparison_roc(best_models,\n",
    "                    test_x = val_X ,\n",
    "                    test_y = val_Y,\n",
    "                   )"
   ]
  },
  {
   "cell_type": "code",
   "execution_count": 1025,
   "metadata": {},
   "outputs": [
    {
     "data": {
      "text/plain": [
       "['Contract_Two year',\n",
       " 'tenure',\n",
       " 'PhoneService_Yes',\n",
       " 'Contract_One year',\n",
       " 'tenure_bin_Tenure_60+',\n",
       " 'Churn_Yes']"
      ]
     },
     "execution_count": 1025,
     "metadata": {},
     "output_type": "execute_result"
    }
   ],
   "source": [
    "important_features"
   ]
  },
  {
   "cell_type": "code",
   "execution_count": 1078,
   "metadata": {},
   "outputs": [],
   "source": [
    "# sns.pairplot(complete[important_features])"
   ]
  },
  {
   "cell_type": "code",
   "execution_count": 1031,
   "metadata": {},
   "outputs": [],
   "source": [
    "# sns.pairplot(complete)"
   ]
  },
  {
   "cell_type": "markdown",
   "metadata": {},
   "source": [
    "average event rate per most important features"
   ]
  },
  {
   "cell_type": "code",
   "execution_count": 1035,
   "metadata": {},
   "outputs": [],
   "source": [
    "mean_contract1 = complete.groupby(['Contract_One year']).mean()"
   ]
  },
  {
   "cell_type": "code",
   "execution_count": 1036,
   "metadata": {},
   "outputs": [
    {
     "data": {
      "text/html": [
       "<div>\n",
       "<style scoped>\n",
       "    .dataframe tbody tr th:only-of-type {\n",
       "        vertical-align: middle;\n",
       "    }\n",
       "\n",
       "    .dataframe tbody tr th {\n",
       "        vertical-align: top;\n",
       "    }\n",
       "\n",
       "    .dataframe thead th {\n",
       "        text-align: right;\n",
       "    }\n",
       "</style>\n",
       "<table border=\"1\" class=\"dataframe\">\n",
       "  <thead>\n",
       "    <tr style=\"text-align: right;\">\n",
       "      <th></th>\n",
       "      <th>tenure</th>\n",
       "      <th>MonthlyCharges</th>\n",
       "      <th>TotalCharges</th>\n",
       "      <th>MultipleLines_No phone service</th>\n",
       "      <th>MultipleLines_Yes</th>\n",
       "      <th>InternetService_Fiber optic</th>\n",
       "      <th>InternetService_No</th>\n",
       "      <th>Contract_Two year</th>\n",
       "      <th>PaymentMethod_Credit card (automatic)</th>\n",
       "      <th>PaymentMethod_Electronic check</th>\n",
       "      <th>...</th>\n",
       "      <th>Dependents_Yes</th>\n",
       "      <th>PhoneService_Yes</th>\n",
       "      <th>OnlineSecurity_Yes</th>\n",
       "      <th>OnlineBackup_Yes</th>\n",
       "      <th>DeviceProtection_Yes</th>\n",
       "      <th>TechSupport_Yes</th>\n",
       "      <th>StreamingTV_Yes</th>\n",
       "      <th>StreamingMovies_Yes</th>\n",
       "      <th>PaperlessBilling_Yes</th>\n",
       "      <th>Churn_Yes</th>\n",
       "    </tr>\n",
       "    <tr>\n",
       "      <th>Contract_One year</th>\n",
       "      <th></th>\n",
       "      <th></th>\n",
       "      <th></th>\n",
       "      <th></th>\n",
       "      <th></th>\n",
       "      <th></th>\n",
       "      <th></th>\n",
       "      <th></th>\n",
       "      <th></th>\n",
       "      <th></th>\n",
       "      <th></th>\n",
       "      <th></th>\n",
       "      <th></th>\n",
       "      <th></th>\n",
       "      <th></th>\n",
       "      <th></th>\n",
       "      <th></th>\n",
       "      <th></th>\n",
       "      <th></th>\n",
       "      <th></th>\n",
       "      <th></th>\n",
       "    </tr>\n",
       "  </thead>\n",
       "  <tbody>\n",
       "    <tr>\n",
       "      <th>0</th>\n",
       "      <td>29.866547</td>\n",
       "      <td>64.723759</td>\n",
       "      <td>2084.373237</td>\n",
       "      <td>0.096223</td>\n",
       "      <td>0.422842</td>\n",
       "      <td>0.459892</td>\n",
       "      <td>0.208094</td>\n",
       "      <td>0.303058</td>\n",
       "      <td>0.201978</td>\n",
       "      <td>0.362950</td>\n",
       "      <td>...</td>\n",
       "      <td>0.282194</td>\n",
       "      <td>0.903777</td>\n",
       "      <td>0.263129</td>\n",
       "      <td>0.324281</td>\n",
       "      <td>0.318705</td>\n",
       "      <td>0.267626</td>\n",
       "      <td>0.368885</td>\n",
       "      <td>0.372122</td>\n",
       "      <td>0.605935</td>\n",
       "      <td>0.306295</td>\n",
       "    </tr>\n",
       "    <tr>\n",
       "      <th>1</th>\n",
       "      <td>42.073370</td>\n",
       "      <td>65.079416</td>\n",
       "      <td>3034.683084</td>\n",
       "      <td>0.098505</td>\n",
       "      <td>0.418478</td>\n",
       "      <td>0.366168</td>\n",
       "      <td>0.246603</td>\n",
       "      <td>0.000000</td>\n",
       "      <td>0.270380</td>\n",
       "      <td>0.235734</td>\n",
       "      <td>...</td>\n",
       "      <td>0.360054</td>\n",
       "      <td>0.901495</td>\n",
       "      <td>0.375000</td>\n",
       "      <td>0.422554</td>\n",
       "      <td>0.438859</td>\n",
       "      <td>0.375000</td>\n",
       "      <td>0.442935</td>\n",
       "      <td>0.449728</td>\n",
       "      <td>0.542799</td>\n",
       "      <td>0.112772</td>\n",
       "    </tr>\n",
       "  </tbody>\n",
       "</table>\n",
       "<p>2 rows × 28 columns</p>\n",
       "</div>"
      ],
      "text/plain": [
       "                      tenure  MonthlyCharges  TotalCharges  \\\n",
       "Contract_One year                                            \n",
       "0                  29.866547       64.723759   2084.373237   \n",
       "1                  42.073370       65.079416   3034.683084   \n",
       "\n",
       "                   MultipleLines_No phone service  MultipleLines_Yes  \\\n",
       "Contract_One year                                                      \n",
       "0                                        0.096223           0.422842   \n",
       "1                                        0.098505           0.418478   \n",
       "\n",
       "                   InternetService_Fiber optic  InternetService_No  \\\n",
       "Contract_One year                                                    \n",
       "0                                     0.459892            0.208094   \n",
       "1                                     0.366168            0.246603   \n",
       "\n",
       "                   Contract_Two year  PaymentMethod_Credit card (automatic)  \\\n",
       "Contract_One year                                                             \n",
       "0                           0.303058                               0.201978   \n",
       "1                           0.000000                               0.270380   \n",
       "\n",
       "                   PaymentMethod_Electronic check  ...  Dependents_Yes  \\\n",
       "Contract_One year                                  ...                   \n",
       "0                                        0.362950  ...        0.282194   \n",
       "1                                        0.235734  ...        0.360054   \n",
       "\n",
       "                   PhoneService_Yes  OnlineSecurity_Yes  OnlineBackup_Yes  \\\n",
       "Contract_One year                                                           \n",
       "0                          0.903777            0.263129          0.324281   \n",
       "1                          0.901495            0.375000          0.422554   \n",
       "\n",
       "                   DeviceProtection_Yes  TechSupport_Yes  StreamingTV_Yes  \\\n",
       "Contract_One year                                                           \n",
       "0                              0.318705         0.267626         0.368885   \n",
       "1                              0.438859         0.375000         0.442935   \n",
       "\n",
       "                   StreamingMovies_Yes  PaperlessBilling_Yes  Churn_Yes  \n",
       "Contract_One year                                                        \n",
       "0                             0.372122              0.605935   0.306295  \n",
       "1                             0.449728              0.542799   0.112772  \n",
       "\n",
       "[2 rows x 28 columns]"
      ]
     },
     "execution_count": 1036,
     "metadata": {},
     "output_type": "execute_result"
    }
   ],
   "source": [
    "mean_contract1"
   ]
  },
  {
   "cell_type": "code",
   "execution_count": 1033,
   "metadata": {},
   "outputs": [],
   "source": [
    "mean_contract2 = complete.groupby(['Contract_Two year']).mean()"
   ]
  },
  {
   "cell_type": "code",
   "execution_count": 1034,
   "metadata": {},
   "outputs": [
    {
     "data": {
      "text/html": [
       "<div>\n",
       "<style scoped>\n",
       "    .dataframe tbody tr th:only-of-type {\n",
       "        vertical-align: middle;\n",
       "    }\n",
       "\n",
       "    .dataframe tbody tr th {\n",
       "        vertical-align: top;\n",
       "    }\n",
       "\n",
       "    .dataframe thead th {\n",
       "        text-align: right;\n",
       "    }\n",
       "</style>\n",
       "<table border=\"1\" class=\"dataframe\">\n",
       "  <thead>\n",
       "    <tr style=\"text-align: right;\">\n",
       "      <th></th>\n",
       "      <th>tenure</th>\n",
       "      <th>MonthlyCharges</th>\n",
       "      <th>TotalCharges</th>\n",
       "      <th>MultipleLines_No phone service</th>\n",
       "      <th>MultipleLines_Yes</th>\n",
       "      <th>InternetService_Fiber optic</th>\n",
       "      <th>InternetService_No</th>\n",
       "      <th>Contract_One year</th>\n",
       "      <th>PaymentMethod_Credit card (automatic)</th>\n",
       "      <th>PaymentMethod_Electronic check</th>\n",
       "      <th>...</th>\n",
       "      <th>Dependents_Yes</th>\n",
       "      <th>PhoneService_Yes</th>\n",
       "      <th>OnlineSecurity_Yes</th>\n",
       "      <th>OnlineBackup_Yes</th>\n",
       "      <th>DeviceProtection_Yes</th>\n",
       "      <th>TechSupport_Yes</th>\n",
       "      <th>StreamingTV_Yes</th>\n",
       "      <th>StreamingMovies_Yes</th>\n",
       "      <th>PaperlessBilling_Yes</th>\n",
       "      <th>Churn_Yes</th>\n",
       "    </tr>\n",
       "    <tr>\n",
       "      <th>Contract_Two year</th>\n",
       "      <th></th>\n",
       "      <th></th>\n",
       "      <th></th>\n",
       "      <th></th>\n",
       "      <th></th>\n",
       "      <th></th>\n",
       "      <th></th>\n",
       "      <th></th>\n",
       "      <th></th>\n",
       "      <th></th>\n",
       "      <th></th>\n",
       "      <th></th>\n",
       "      <th></th>\n",
       "      <th></th>\n",
       "      <th></th>\n",
       "      <th></th>\n",
       "      <th></th>\n",
       "      <th></th>\n",
       "      <th></th>\n",
       "      <th></th>\n",
       "      <th></th>\n",
       "    </tr>\n",
       "  </thead>\n",
       "  <tbody>\n",
       "    <tr>\n",
       "      <th>0</th>\n",
       "      <td>24.653825</td>\n",
       "      <td>66.035356</td>\n",
       "      <td>1827.737984</td>\n",
       "      <td>0.097438</td>\n",
       "      <td>0.392370</td>\n",
       "      <td>0.498784</td>\n",
       "      <td>0.165887</td>\n",
       "      <td>0.275295</td>\n",
       "      <td>0.175987</td>\n",
       "      <td>0.410885</td>\n",
       "      <td>...</td>\n",
       "      <td>0.246680</td>\n",
       "      <td>0.902562</td>\n",
       "      <td>0.23789</td>\n",
       "      <td>0.315130</td>\n",
       "      <td>0.299794</td>\n",
       "      <td>0.228726</td>\n",
       "      <td>0.364690</td>\n",
       "      <td>0.367683</td>\n",
       "      <td>0.633065</td>\n",
       "      <td>0.340565</td>\n",
       "    </tr>\n",
       "    <tr>\n",
       "      <th>1</th>\n",
       "      <td>57.071810</td>\n",
       "      <td>60.872374</td>\n",
       "      <td>3728.933947</td>\n",
       "      <td>0.094362</td>\n",
       "      <td>0.515727</td>\n",
       "      <td>0.254599</td>\n",
       "      <td>0.375668</td>\n",
       "      <td>0.000000</td>\n",
       "      <td>0.344214</td>\n",
       "      <td>0.099703</td>\n",
       "      <td>...</td>\n",
       "      <td>0.462908</td>\n",
       "      <td>0.905638</td>\n",
       "      <td>0.44095</td>\n",
       "      <td>0.439169</td>\n",
       "      <td>0.483680</td>\n",
       "      <td>0.484866</td>\n",
       "      <td>0.446884</td>\n",
       "      <td>0.454006</td>\n",
       "      <td>0.464688</td>\n",
       "      <td>0.028487</td>\n",
       "    </tr>\n",
       "  </tbody>\n",
       "</table>\n",
       "<p>2 rows × 28 columns</p>\n",
       "</div>"
      ],
      "text/plain": [
       "                      tenure  MonthlyCharges  TotalCharges  \\\n",
       "Contract_Two year                                            \n",
       "0                  24.653825       66.035356   1827.737984   \n",
       "1                  57.071810       60.872374   3728.933947   \n",
       "\n",
       "                   MultipleLines_No phone service  MultipleLines_Yes  \\\n",
       "Contract_Two year                                                      \n",
       "0                                        0.097438           0.392370   \n",
       "1                                        0.094362           0.515727   \n",
       "\n",
       "                   InternetService_Fiber optic  InternetService_No  \\\n",
       "Contract_Two year                                                    \n",
       "0                                     0.498784            0.165887   \n",
       "1                                     0.254599            0.375668   \n",
       "\n",
       "                   Contract_One year  PaymentMethod_Credit card (automatic)  \\\n",
       "Contract_Two year                                                             \n",
       "0                           0.275295                               0.175987   \n",
       "1                           0.000000                               0.344214   \n",
       "\n",
       "                   PaymentMethod_Electronic check  ...  Dependents_Yes  \\\n",
       "Contract_Two year                                  ...                   \n",
       "0                                        0.410885  ...        0.246680   \n",
       "1                                        0.099703  ...        0.462908   \n",
       "\n",
       "                   PhoneService_Yes  OnlineSecurity_Yes  OnlineBackup_Yes  \\\n",
       "Contract_Two year                                                           \n",
       "0                          0.902562             0.23789          0.315130   \n",
       "1                          0.905638             0.44095          0.439169   \n",
       "\n",
       "                   DeviceProtection_Yes  TechSupport_Yes  StreamingTV_Yes  \\\n",
       "Contract_Two year                                                           \n",
       "0                              0.299794         0.228726         0.364690   \n",
       "1                              0.483680         0.484866         0.446884   \n",
       "\n",
       "                   StreamingMovies_Yes  PaperlessBilling_Yes  Churn_Yes  \n",
       "Contract_Two year                                                        \n",
       "0                             0.367683              0.633065   0.340565  \n",
       "1                             0.454006              0.464688   0.028487  \n",
       "\n",
       "[2 rows x 28 columns]"
      ]
     },
     "execution_count": 1034,
     "metadata": {},
     "output_type": "execute_result"
    }
   ],
   "source": [
    "mean_contract2"
   ]
  },
  {
   "cell_type": "code",
   "execution_count": null,
   "metadata": {},
   "outputs": [],
   "source": []
  },
  {
   "cell_type": "code",
   "execution_count": 1072,
   "metadata": {},
   "outputs": [],
   "source": [
    "monthly = complete[((complete['Contract_One year'] == 0) & (complete['Contract_Two year'] == 0))]"
   ]
  },
  {
   "cell_type": "code",
   "execution_count": 1077,
   "metadata": {},
   "outputs": [],
   "source": []
  },
  {
   "cell_type": "code",
   "execution_count": 1074,
   "metadata": {},
   "outputs": [],
   "source": [
    "mean_monthly = monthly.mean().to_frame().transpose()"
   ]
  },
  {
   "cell_type": "code",
   "execution_count": 1075,
   "metadata": {},
   "outputs": [
    {
     "data": {
      "text/html": [
       "<div>\n",
       "<style scoped>\n",
       "    .dataframe tbody tr th:only-of-type {\n",
       "        vertical-align: middle;\n",
       "    }\n",
       "\n",
       "    .dataframe tbody tr th {\n",
       "        vertical-align: top;\n",
       "    }\n",
       "\n",
       "    .dataframe thead th {\n",
       "        text-align: right;\n",
       "    }\n",
       "</style>\n",
       "<table border=\"1\" class=\"dataframe\">\n",
       "  <thead>\n",
       "    <tr style=\"text-align: right;\">\n",
       "      <th></th>\n",
       "      <th>tenure</th>\n",
       "      <th>MonthlyCharges</th>\n",
       "      <th>TotalCharges</th>\n",
       "      <th>MultipleLines_No phone service</th>\n",
       "      <th>MultipleLines_Yes</th>\n",
       "      <th>InternetService_Fiber optic</th>\n",
       "      <th>InternetService_No</th>\n",
       "      <th>Contract_One year</th>\n",
       "      <th>Contract_Two year</th>\n",
       "      <th>PaymentMethod_Credit card (automatic)</th>\n",
       "      <th>...</th>\n",
       "      <th>Dependents_Yes</th>\n",
       "      <th>PhoneService_Yes</th>\n",
       "      <th>OnlineSecurity_Yes</th>\n",
       "      <th>OnlineBackup_Yes</th>\n",
       "      <th>DeviceProtection_Yes</th>\n",
       "      <th>TechSupport_Yes</th>\n",
       "      <th>StreamingTV_Yes</th>\n",
       "      <th>StreamingMovies_Yes</th>\n",
       "      <th>PaperlessBilling_Yes</th>\n",
       "      <th>Churn_Yes</th>\n",
       "    </tr>\n",
       "  </thead>\n",
       "  <tbody>\n",
       "    <tr>\n",
       "      <th>0</th>\n",
       "      <td>18.036645</td>\n",
       "      <td>66.39849</td>\n",
       "      <td>1369.254581</td>\n",
       "      <td>0.097032</td>\n",
       "      <td>0.382452</td>\n",
       "      <td>0.549161</td>\n",
       "      <td>0.135226</td>\n",
       "      <td>0.0</td>\n",
       "      <td>0.0</td>\n",
       "      <td>0.140129</td>\n",
       "      <td>...</td>\n",
       "      <td>0.203613</td>\n",
       "      <td>0.902968</td>\n",
       "      <td>0.185806</td>\n",
       "      <td>0.274323</td>\n",
       "      <td>0.246968</td>\n",
       "      <td>0.173161</td>\n",
       "      <td>0.334968</td>\n",
       "      <td>0.336516</td>\n",
       "      <td>0.667355</td>\n",
       "      <td>0.427097</td>\n",
       "    </tr>\n",
       "  </tbody>\n",
       "</table>\n",
       "<p>1 rows × 29 columns</p>\n",
       "</div>"
      ],
      "text/plain": [
       "      tenure  MonthlyCharges  TotalCharges  MultipleLines_No phone service  \\\n",
       "0  18.036645        66.39849   1369.254581                        0.097032   \n",
       "\n",
       "   MultipleLines_Yes  InternetService_Fiber optic  InternetService_No  \\\n",
       "0           0.382452                     0.549161            0.135226   \n",
       "\n",
       "   Contract_One year  Contract_Two year  \\\n",
       "0                0.0                0.0   \n",
       "\n",
       "   PaymentMethod_Credit card (automatic)  ...  Dependents_Yes  \\\n",
       "0                               0.140129  ...        0.203613   \n",
       "\n",
       "   PhoneService_Yes  OnlineSecurity_Yes  OnlineBackup_Yes  \\\n",
       "0          0.902968            0.185806          0.274323   \n",
       "\n",
       "   DeviceProtection_Yes  TechSupport_Yes  StreamingTV_Yes  \\\n",
       "0              0.246968         0.173161         0.334968   \n",
       "\n",
       "   StreamingMovies_Yes  PaperlessBilling_Yes  Churn_Yes  \n",
       "0             0.336516              0.667355   0.427097  \n",
       "\n",
       "[1 rows x 29 columns]"
      ]
     },
     "execution_count": 1075,
     "metadata": {},
     "output_type": "execute_result"
    }
   ],
   "source": [
    "mean_monthly"
   ]
  },
  {
   "cell_type": "code",
   "execution_count": 1076,
   "metadata": {},
   "outputs": [
    {
     "data": {
      "text/plain": [
       "tenure                                     32.421786\n",
       "MonthlyCharges                             64.798208\n",
       "TotalCharges                             2283.300441\n",
       "MultipleLines_No phone service              0.096701\n",
       "MultipleLines_Yes                           0.421928\n",
       "InternetService_Fiber optic                 0.440273\n",
       "InternetService_No                          0.216155\n",
       "Contract_One year                           0.209329\n",
       "Contract_Two year                           0.239619\n",
       "PaymentMethod_Credit card (automatic)       0.216297\n",
       "PaymentMethod_Electronic check              0.336320\n",
       "PaymentMethod_Mailed check                  0.228100\n",
       "tenure_bin_Tenure_12_to_24                  0.145620\n",
       "tenure_bin_Tenure_24_to_48                  0.226678\n",
       "tenure_bin_Tenure_48_to_60                  0.118316\n",
       "tenure_bin_Tenure_60+                       0.200085\n",
       "gender_Male                                 0.504693\n",
       "SeniorCitizen_1                             0.162400\n",
       "Partner_Yes                                 0.482509\n",
       "Dependents_Yes                              0.298493\n",
       "PhoneService_Yes                            0.903299\n",
       "OnlineSecurity_Yes                          0.286547\n",
       "OnlineBackup_Yes                            0.344852\n",
       "DeviceProtection_Yes                        0.343857\n",
       "TechSupport_Yes                             0.290102\n",
       "StreamingTV_Yes                             0.384386\n",
       "StreamingMovies_Yes                         0.388367\n",
       "PaperlessBilling_Yes                        0.592719\n",
       "Churn_Yes                                   0.265785\n",
       "dtype: float64"
      ]
     },
     "execution_count": 1076,
     "metadata": {},
     "output_type": "execute_result"
    }
   ],
   "source": [
    "complete.mean()"
   ]
  },
  {
   "cell_type": "code",
   "execution_count": 1106,
   "metadata": {},
   "outputs": [
    {
     "data": {
      "text/html": [
       "<iframe id=\"igraph\" scrolling=\"no\" style=\"border:none;\" seamless=\"seamless\" src=\"https://plot.ly/~leoknauth/138.embed\" height=\"525px\" width=\"100%\"></iframe>"
      ],
      "text/plain": [
       "<plotly.tools.PlotlyDisplay object>"
      ]
     },
     "execution_count": 1106,
     "metadata": {},
     "output_type": "execute_result"
    }
   ],
   "source": [
    "#cusomer attrition in tenure groups\n",
    "tg_ch  =  df_only_churn[\"tenure_bin\"].value_counts().reset_index()\n",
    "tg_ch.columns  = [\"tenure_bin\",\"count\"]\n",
    "tg_nch =  df_not_churn[\"tenure_bin\"].value_counts().reset_index()\n",
    "tg_nch.columns = [\"tenure_bin\",\"count\"]\n",
    "\n",
    "#bar - churn\n",
    "trace1 = go.Bar(x = tg_ch[\"tenure_bin\"]  , y = tg_ch[\"count\"],\n",
    "                name = \"Churn\",\n",
    "                marker = dict(line = dict(width = .5,color = \"black\")),\n",
    "                opacity = 1)\n",
    "\n",
    "#bar - not churn\n",
    "trace2 = go.Bar(x = tg_nch[\"tenure_bin\"] , y = tg_nch[\"count\"],\n",
    "                name = \"Non Churn\",\n",
    "                marker = dict(line = dict(width = .5,color = \"black\")),\n",
    "                opacity = 1)\n",
    "\n",
    "layout = go.Layout(dict(title = \"Customer Attrition by Tenure Bins\",\n",
    "                        plot_bgcolor  = \"rgb(255,255,255)\",\n",
    "                        paper_bgcolor = \"rgb(255,255,255)\",\n",
    "                        xaxis = dict(\n",
    "                                    gridcolor = 'rgb(255, 255, 255)',\n",
    "                                     title = \"Tenure bin\",\n",
    "                                     zerolinewidth = 1,ticklen = 5,gridwidth = 2),\n",
    "                        yaxis = dict(gridcolor = 'rgb(255, 255, 255)',\n",
    "                                     title = \"Count\",\n",
    "                                     zerolinewidth=1,ticklen=5,gridwidth=2),\n",
    "                       )\n",
    "                  )\n",
    "data = [trace1,trace2]\n",
    "fig  = go.Figure(data=data,layout=layout)\n",
    "py.iplot(fig, filename =  'jupyter-table2')"
   ]
  },
  {
   "cell_type": "code",
   "execution_count": null,
   "metadata": {},
   "outputs": [],
   "source": []
  }
 ],
 "metadata": {
  "kernelspec": {
   "display_name": "Python 3",
   "language": "python",
   "name": "python3"
  },
  "language_info": {
   "codemirror_mode": {
    "name": "ipython",
    "version": 3
   },
   "file_extension": ".py",
   "mimetype": "text/x-python",
   "name": "python",
   "nbconvert_exporter": "python",
   "pygments_lexer": "ipython3",
   "version": "3.7.1"
  }
 },
 "nbformat": 4,
 "nbformat_minor": 2
}
